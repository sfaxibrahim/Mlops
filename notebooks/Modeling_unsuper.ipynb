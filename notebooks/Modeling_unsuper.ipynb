{
 "cells": [
  {
   "cell_type": "code",
   "execution_count": null,
   "metadata": {},
   "outputs": [],
   "source": [
    "import pandas as pd\n",
    "from sklearn.preprocessing import StandardScaler\n",
    "from keras.layers import Dense\n",
    "import numpy as np\n",
    "import matplotlib.pyplot as plt\n",
    "\n",
    "from tensorflow.keras.models import Model\n",
    "from tensorflow.keras.layers import Input, LSTM, Dense, RepeatVector, TimeDistributed ,Dropout\n",
    "from tensorflow.keras.optimizers import Adam\n",
    "from tensorflow.keras.regularizers import l2\n",
    "from tensorflow.keras.callbacks import EarlyStopping, ModelCheckpoint\n",
    "from sklearn.metrics import accuracy_score, precision_score, recall_score, f1_score,confusion_matrix"
   ]
  },
  {
   "cell_type": "code",
   "execution_count": 2,
   "metadata": {},
   "outputs": [],
   "source": [
    "df=pd.read_csv(\"../data/processed/data_v1.csv\")\n"
   ]
  },
  {
   "cell_type": "code",
   "execution_count": 3,
   "metadata": {},
   "outputs": [
    {
     "name": "stdout",
     "output_type": "stream",
     "text": [
      "<class 'pandas.core.frame.DataFrame'>\n",
      "RangeIndex: 1221948 entries, 0 to 1221947\n",
      "Data columns (total 17 columns):\n",
      " #   Column           Non-Null Count    Dtype  \n",
      "---  ------           --------------    -----  \n",
      " 0   timestamp        1221948 non-null  object \n",
      " 1   TP2              1221948 non-null  float64\n",
      " 2   TP3              1221948 non-null  float64\n",
      " 3   H1               1221948 non-null  float64\n",
      " 4   DV_pressure      1221948 non-null  float64\n",
      " 5   Reservoirs       1221948 non-null  float64\n",
      " 6   Oil_temperature  1221948 non-null  float64\n",
      " 7   Motor_current    1221948 non-null  float64\n",
      " 8   COMP             1221948 non-null  float64\n",
      " 9   DV_eletric       1221948 non-null  float64\n",
      " 10  Towers           1221948 non-null  float64\n",
      " 11  MPG              1221948 non-null  float64\n",
      " 12  LPS              1221948 non-null  float64\n",
      " 13  Pressure_switch  1221948 non-null  float64\n",
      " 14  Oil_level        1221948 non-null  float64\n",
      " 15  Caudal_impulses  1221948 non-null  float64\n",
      " 16  Air_Leak         1221948 non-null  int64  \n",
      "dtypes: float64(15), int64(1), object(1)\n",
      "memory usage: 158.5+ MB\n"
     ]
    }
   ],
   "source": [
    "df.info()"
   ]
  },
  {
   "cell_type": "code",
   "execution_count": 4,
   "metadata": {},
   "outputs": [
    {
     "data": {
      "text/plain": [
       "Air_Leak\n",
       "0    1196741\n",
       "1      25207\n",
       "Name: count, dtype: int64"
      ]
     },
     "execution_count": 4,
     "metadata": {},
     "output_type": "execute_result"
    }
   ],
   "source": [
    "df[\"Air_Leak\"].value_counts()"
   ]
  },
  {
   "cell_type": "code",
   "execution_count": 5,
   "metadata": {},
   "outputs": [],
   "source": [
    "y=df[\"Air_Leak\"]\n"
   ]
  },
  {
   "cell_type": "code",
   "execution_count": 6,
   "metadata": {},
   "outputs": [],
   "source": [
    "df['timestamp']=pd.to_datetime(df[\"timestamp\"])"
   ]
  },
  {
   "cell_type": "code",
   "execution_count": 7,
   "metadata": {},
   "outputs": [],
   "source": [
    "df.drop(columns=[\"Reservoirs\",\"COMP\",\"Caudal_impulses\",\"Pressure_switch\",\"H1\"],inplace=True)"
   ]
  },
  {
   "cell_type": "code",
   "execution_count": 8,
   "metadata": {},
   "outputs": [
    {
     "name": "stdout",
     "output_type": "stream",
     "text": [
      "<class 'pandas.core.frame.DataFrame'>\n",
      "RangeIndex: 1221948 entries, 0 to 1221947\n",
      "Data columns (total 12 columns):\n",
      " #   Column           Non-Null Count    Dtype         \n",
      "---  ------           --------------    -----         \n",
      " 0   timestamp        1221948 non-null  datetime64[ns]\n",
      " 1   TP2              1221948 non-null  float64       \n",
      " 2   TP3              1221948 non-null  float64       \n",
      " 3   DV_pressure      1221948 non-null  float64       \n",
      " 4   Oil_temperature  1221948 non-null  float64       \n",
      " 5   Motor_current    1221948 non-null  float64       \n",
      " 6   DV_eletric       1221948 non-null  float64       \n",
      " 7   Towers           1221948 non-null  float64       \n",
      " 8   MPG              1221948 non-null  float64       \n",
      " 9   LPS              1221948 non-null  float64       \n",
      " 10  Oil_level        1221948 non-null  float64       \n",
      " 11  Air_Leak         1221948 non-null  int64         \n",
      "dtypes: datetime64[ns](1), float64(10), int64(1)\n",
      "memory usage: 111.9 MB\n"
     ]
    }
   ],
   "source": [
    "df.info()"
   ]
  },
  {
   "cell_type": "markdown",
   "metadata": {},
   "source": [
    "## timeseries Analysis\n"
   ]
  },
  {
   "cell_type": "code",
   "execution_count": 9,
   "metadata": {},
   "outputs": [],
   "source": [
    "df.set_index('timestamp', inplace=True)\n"
   ]
  },
  {
   "cell_type": "code",
   "execution_count": 10,
   "metadata": {},
   "outputs": [],
   "source": [
    "df.sort_index(inplace=True)\n"
   ]
  },
  {
   "cell_type": "code",
   "execution_count": 11,
   "metadata": {},
   "outputs": [
    {
     "data": {
      "text/html": [
       "<div>\n",
       "<style scoped>\n",
       "    .dataframe tbody tr th:only-of-type {\n",
       "        vertical-align: middle;\n",
       "    }\n",
       "\n",
       "    .dataframe tbody tr th {\n",
       "        vertical-align: top;\n",
       "    }\n",
       "\n",
       "    .dataframe thead th {\n",
       "        text-align: right;\n",
       "    }\n",
       "</style>\n",
       "<table border=\"1\" class=\"dataframe\">\n",
       "  <thead>\n",
       "    <tr style=\"text-align: right;\">\n",
       "      <th></th>\n",
       "      <th>TP2</th>\n",
       "      <th>TP3</th>\n",
       "      <th>DV_pressure</th>\n",
       "      <th>Oil_temperature</th>\n",
       "      <th>Motor_current</th>\n",
       "      <th>DV_eletric</th>\n",
       "      <th>Towers</th>\n",
       "      <th>MPG</th>\n",
       "      <th>LPS</th>\n",
       "      <th>Oil_level</th>\n",
       "      <th>Air_Leak</th>\n",
       "    </tr>\n",
       "    <tr>\n",
       "      <th>timestamp</th>\n",
       "      <th></th>\n",
       "      <th></th>\n",
       "      <th></th>\n",
       "      <th></th>\n",
       "      <th></th>\n",
       "      <th></th>\n",
       "      <th></th>\n",
       "      <th></th>\n",
       "      <th></th>\n",
       "      <th></th>\n",
       "      <th></th>\n",
       "    </tr>\n",
       "  </thead>\n",
       "  <tbody>\n",
       "    <tr>\n",
       "      <th>2020-02-01 00:00:00</th>\n",
       "      <td>-0.012</td>\n",
       "      <td>9.358</td>\n",
       "      <td>-0.024</td>\n",
       "      <td>53.600</td>\n",
       "      <td>0.0400</td>\n",
       "      <td>0.0</td>\n",
       "      <td>1.0</td>\n",
       "      <td>1.0</td>\n",
       "      <td>0.0</td>\n",
       "      <td>1.0</td>\n",
       "      <td>0</td>\n",
       "    </tr>\n",
       "    <tr>\n",
       "      <th>2020-02-01 00:00:10</th>\n",
       "      <td>-0.014</td>\n",
       "      <td>9.348</td>\n",
       "      <td>-0.022</td>\n",
       "      <td>53.675</td>\n",
       "      <td>0.0400</td>\n",
       "      <td>0.0</td>\n",
       "      <td>1.0</td>\n",
       "      <td>1.0</td>\n",
       "      <td>0.0</td>\n",
       "      <td>1.0</td>\n",
       "      <td>0</td>\n",
       "    </tr>\n",
       "    <tr>\n",
       "      <th>2020-02-01 00:00:19</th>\n",
       "      <td>-0.012</td>\n",
       "      <td>9.338</td>\n",
       "      <td>-0.022</td>\n",
       "      <td>53.600</td>\n",
       "      <td>0.0425</td>\n",
       "      <td>0.0</td>\n",
       "      <td>1.0</td>\n",
       "      <td>1.0</td>\n",
       "      <td>0.0</td>\n",
       "      <td>1.0</td>\n",
       "      <td>0</td>\n",
       "    </tr>\n",
       "    <tr>\n",
       "      <th>2020-02-01 00:00:29</th>\n",
       "      <td>-0.012</td>\n",
       "      <td>9.328</td>\n",
       "      <td>-0.022</td>\n",
       "      <td>53.425</td>\n",
       "      <td>0.0400</td>\n",
       "      <td>0.0</td>\n",
       "      <td>1.0</td>\n",
       "      <td>1.0</td>\n",
       "      <td>0.0</td>\n",
       "      <td>1.0</td>\n",
       "      <td>0</td>\n",
       "    </tr>\n",
       "    <tr>\n",
       "      <th>2020-02-01 00:00:39</th>\n",
       "      <td>-0.012</td>\n",
       "      <td>9.318</td>\n",
       "      <td>-0.022</td>\n",
       "      <td>53.475</td>\n",
       "      <td>0.0400</td>\n",
       "      <td>0.0</td>\n",
       "      <td>1.0</td>\n",
       "      <td>1.0</td>\n",
       "      <td>0.0</td>\n",
       "      <td>1.0</td>\n",
       "      <td>0</td>\n",
       "    </tr>\n",
       "  </tbody>\n",
       "</table>\n",
       "</div>"
      ],
      "text/plain": [
       "                       TP2    TP3  DV_pressure  Oil_temperature  \\\n",
       "timestamp                                                         \n",
       "2020-02-01 00:00:00 -0.012  9.358       -0.024           53.600   \n",
       "2020-02-01 00:00:10 -0.014  9.348       -0.022           53.675   \n",
       "2020-02-01 00:00:19 -0.012  9.338       -0.022           53.600   \n",
       "2020-02-01 00:00:29 -0.012  9.328       -0.022           53.425   \n",
       "2020-02-01 00:00:39 -0.012  9.318       -0.022           53.475   \n",
       "\n",
       "                     Motor_current  DV_eletric  Towers  MPG  LPS  Oil_level  \\\n",
       "timestamp                                                                     \n",
       "2020-02-01 00:00:00         0.0400         0.0     1.0  1.0  0.0        1.0   \n",
       "2020-02-01 00:00:10         0.0400         0.0     1.0  1.0  0.0        1.0   \n",
       "2020-02-01 00:00:19         0.0425         0.0     1.0  1.0  0.0        1.0   \n",
       "2020-02-01 00:00:29         0.0400         0.0     1.0  1.0  0.0        1.0   \n",
       "2020-02-01 00:00:39         0.0400         0.0     1.0  1.0  0.0        1.0   \n",
       "\n",
       "                     Air_Leak  \n",
       "timestamp                      \n",
       "2020-02-01 00:00:00         0  \n",
       "2020-02-01 00:00:10         0  \n",
       "2020-02-01 00:00:19         0  \n",
       "2020-02-01 00:00:29         0  \n",
       "2020-02-01 00:00:39         0  "
      ]
     },
     "execution_count": 11,
     "metadata": {},
     "output_type": "execute_result"
    }
   ],
   "source": [
    "df.head()"
   ]
  },
  {
   "cell_type": "code",
   "execution_count": 12,
   "metadata": {},
   "outputs": [
    {
     "data": {
      "text/plain": [
       "(1221948, 11)"
      ]
     },
     "execution_count": 12,
     "metadata": {},
     "output_type": "execute_result"
    }
   ],
   "source": [
    "\n",
    "scaler = MinMaxScaler()\n",
    "scaled_features = scaler.fit_transform(df.drop(columns=['Air_Leak']))  \n",
    "df_scaled = pd.DataFrame(scaled_features, index=df.index, columns=df.columns[:-1])\n",
    "df_scaled['Air_Leak'] = df['Air_Leak'].values\n",
    "df_scaled.shape"
   ]
  },
  {
   "cell_type": "code",
   "execution_count": 13,
   "metadata": {},
   "outputs": [
    {
     "data": {
      "text/html": [
       "<div>\n",
       "<style scoped>\n",
       "    .dataframe tbody tr th:only-of-type {\n",
       "        vertical-align: middle;\n",
       "    }\n",
       "\n",
       "    .dataframe tbody tr th {\n",
       "        vertical-align: top;\n",
       "    }\n",
       "\n",
       "    .dataframe thead th {\n",
       "        text-align: right;\n",
       "    }\n",
       "</style>\n",
       "<table border=\"1\" class=\"dataframe\">\n",
       "  <thead>\n",
       "    <tr style=\"text-align: right;\">\n",
       "      <th></th>\n",
       "      <th>TP2</th>\n",
       "      <th>TP3</th>\n",
       "      <th>DV_pressure</th>\n",
       "      <th>Oil_temperature</th>\n",
       "      <th>Motor_current</th>\n",
       "      <th>DV_eletric</th>\n",
       "      <th>Towers</th>\n",
       "      <th>MPG</th>\n",
       "      <th>LPS</th>\n",
       "      <th>Oil_level</th>\n",
       "      <th>Air_Leak</th>\n",
       "    </tr>\n",
       "    <tr>\n",
       "      <th>timestamp</th>\n",
       "      <th></th>\n",
       "      <th></th>\n",
       "      <th></th>\n",
       "      <th></th>\n",
       "      <th></th>\n",
       "      <th></th>\n",
       "      <th></th>\n",
       "      <th></th>\n",
       "      <th></th>\n",
       "      <th></th>\n",
       "      <th></th>\n",
       "    </tr>\n",
       "  </thead>\n",
       "  <tbody>\n",
       "    <tr>\n",
       "      <th>2020-02-01 00:00:00</th>\n",
       "      <td>0.001868</td>\n",
       "      <td>0.901379</td>\n",
       "      <td>0.000810</td>\n",
       "      <td>0.564046</td>\n",
       "      <td>0.002156</td>\n",
       "      <td>0.0</td>\n",
       "      <td>1.0</td>\n",
       "      <td>1.0</td>\n",
       "      <td>0.0</td>\n",
       "      <td>1.0</td>\n",
       "      <td>0</td>\n",
       "    </tr>\n",
       "    <tr>\n",
       "      <th>2020-02-01 00:00:10</th>\n",
       "      <td>0.001681</td>\n",
       "      <td>0.900334</td>\n",
       "      <td>0.001013</td>\n",
       "      <td>0.565153</td>\n",
       "      <td>0.002156</td>\n",
       "      <td>0.0</td>\n",
       "      <td>1.0</td>\n",
       "      <td>1.0</td>\n",
       "      <td>0.0</td>\n",
       "      <td>1.0</td>\n",
       "      <td>0</td>\n",
       "    </tr>\n",
       "    <tr>\n",
       "      <th>2020-02-01 00:00:19</th>\n",
       "      <td>0.001868</td>\n",
       "      <td>0.899290</td>\n",
       "      <td>0.001013</td>\n",
       "      <td>0.564046</td>\n",
       "      <td>0.002426</td>\n",
       "      <td>0.0</td>\n",
       "      <td>1.0</td>\n",
       "      <td>1.0</td>\n",
       "      <td>0.0</td>\n",
       "      <td>1.0</td>\n",
       "      <td>0</td>\n",
       "    </tr>\n",
       "    <tr>\n",
       "      <th>2020-02-01 00:00:29</th>\n",
       "      <td>0.001868</td>\n",
       "      <td>0.898245</td>\n",
       "      <td>0.001013</td>\n",
       "      <td>0.561462</td>\n",
       "      <td>0.002156</td>\n",
       "      <td>0.0</td>\n",
       "      <td>1.0</td>\n",
       "      <td>1.0</td>\n",
       "      <td>0.0</td>\n",
       "      <td>1.0</td>\n",
       "      <td>0</td>\n",
       "    </tr>\n",
       "    <tr>\n",
       "      <th>2020-02-01 00:00:39</th>\n",
       "      <td>0.001868</td>\n",
       "      <td>0.897200</td>\n",
       "      <td>0.001013</td>\n",
       "      <td>0.562200</td>\n",
       "      <td>0.002156</td>\n",
       "      <td>0.0</td>\n",
       "      <td>1.0</td>\n",
       "      <td>1.0</td>\n",
       "      <td>0.0</td>\n",
       "      <td>1.0</td>\n",
       "      <td>0</td>\n",
       "    </tr>\n",
       "  </tbody>\n",
       "</table>\n",
       "</div>"
      ],
      "text/plain": [
       "                          TP2       TP3  DV_pressure  Oil_temperature  \\\n",
       "timestamp                                                               \n",
       "2020-02-01 00:00:00  0.001868  0.901379     0.000810         0.564046   \n",
       "2020-02-01 00:00:10  0.001681  0.900334     0.001013         0.565153   \n",
       "2020-02-01 00:00:19  0.001868  0.899290     0.001013         0.564046   \n",
       "2020-02-01 00:00:29  0.001868  0.898245     0.001013         0.561462   \n",
       "2020-02-01 00:00:39  0.001868  0.897200     0.001013         0.562200   \n",
       "\n",
       "                     Motor_current  DV_eletric  Towers  MPG  LPS  Oil_level  \\\n",
       "timestamp                                                                     \n",
       "2020-02-01 00:00:00       0.002156         0.0     1.0  1.0  0.0        1.0   \n",
       "2020-02-01 00:00:10       0.002156         0.0     1.0  1.0  0.0        1.0   \n",
       "2020-02-01 00:00:19       0.002426         0.0     1.0  1.0  0.0        1.0   \n",
       "2020-02-01 00:00:29       0.002156         0.0     1.0  1.0  0.0        1.0   \n",
       "2020-02-01 00:00:39       0.002156         0.0     1.0  1.0  0.0        1.0   \n",
       "\n",
       "                     Air_Leak  \n",
       "timestamp                      \n",
       "2020-02-01 00:00:00         0  \n",
       "2020-02-01 00:00:10         0  \n",
       "2020-02-01 00:00:19         0  \n",
       "2020-02-01 00:00:29         0  \n",
       "2020-02-01 00:00:39         0  "
      ]
     },
     "execution_count": 13,
     "metadata": {},
     "output_type": "execute_result"
    }
   ],
   "source": [
    "df_scaled.head()"
   ]
  },
  {
   "cell_type": "code",
   "execution_count": 14,
   "metadata": {},
   "outputs": [],
   "source": [
    "def create_sequences(data, labels, sequence_length=10):\n",
    "    X, y = [], []\n",
    "    for i in range(len(data) - sequence_length):\n",
    "        X.append(data[i:i+sequence_length])\n",
    "        y.append(labels[i+sequence_length])  # Supervised for fine-tuning\n",
    "    return np.array(X), np.array(y)\n",
    "\n",
    "X, y = create_sequences(df_scaled.drop(columns=['Air_Leak']).values, df_scaled['Air_Leak'].values)"
   ]
  },
  {
   "cell_type": "code",
   "execution_count": 15,
   "metadata": {},
   "outputs": [
    {
     "data": {
      "text/plain": [
       "((1221938, 10, 10), (1221938,))"
      ]
     },
     "execution_count": 15,
     "metadata": {},
     "output_type": "execute_result"
    }
   ],
   "source": [
    "X.shape,y.shape "
   ]
  },
  {
   "cell_type": "code",
   "execution_count": 16,
   "metadata": {},
   "outputs": [
    {
     "data": {
      "text/plain": [
       "array([[[1.86776242e-03, 9.01379022e-01, 8.10044552e-04, ...,\n",
       "         1.00000000e+00, 0.00000000e+00, 1.00000000e+00],\n",
       "        [1.68098618e-03, 9.00334308e-01, 1.01255569e-03, ...,\n",
       "         1.00000000e+00, 0.00000000e+00, 1.00000000e+00],\n",
       "        [1.86776242e-03, 8.99289595e-01, 1.01255569e-03, ...,\n",
       "         1.00000000e+00, 0.00000000e+00, 1.00000000e+00],\n",
       "        ...,\n",
       "        [1.68098618e-03, 8.93857083e-01, 8.10044552e-04, ...,\n",
       "         1.00000000e+00, 0.00000000e+00, 1.00000000e+00],\n",
       "        [1.86776242e-03, 8.92812369e-01, 1.01255569e-03, ...,\n",
       "         1.00000000e+00, 0.00000000e+00, 1.00000000e+00],\n",
       "        [1.86776242e-03, 8.91558713e-01, 1.01255569e-03, ...,\n",
       "         1.00000000e+00, 0.00000000e+00, 1.00000000e+00]],\n",
       "\n",
       "       [[1.68098618e-03, 9.00334308e-01, 1.01255569e-03, ...,\n",
       "         1.00000000e+00, 0.00000000e+00, 1.00000000e+00],\n",
       "        [1.86776242e-03, 8.99289595e-01, 1.01255569e-03, ...,\n",
       "         1.00000000e+00, 0.00000000e+00, 1.00000000e+00],\n",
       "        [1.86776242e-03, 8.98244881e-01, 1.01255569e-03, ...,\n",
       "         1.00000000e+00, 0.00000000e+00, 1.00000000e+00],\n",
       "        ...,\n",
       "        [1.86776242e-03, 8.92812369e-01, 1.01255569e-03, ...,\n",
       "         1.00000000e+00, 0.00000000e+00, 1.00000000e+00],\n",
       "        [1.86776242e-03, 8.91558713e-01, 1.01255569e-03, ...,\n",
       "         1.00000000e+00, 0.00000000e+00, 1.00000000e+00],\n",
       "        [1.68098618e-03, 8.90722942e-01, 8.10044552e-04, ...,\n",
       "         1.00000000e+00, 0.00000000e+00, 1.00000000e+00]],\n",
       "\n",
       "       [[1.86776242e-03, 8.99289595e-01, 1.01255569e-03, ...,\n",
       "         1.00000000e+00, 0.00000000e+00, 1.00000000e+00],\n",
       "        [1.86776242e-03, 8.98244881e-01, 1.01255569e-03, ...,\n",
       "         1.00000000e+00, 0.00000000e+00, 1.00000000e+00],\n",
       "        [1.86776242e-03, 8.97200167e-01, 1.01255569e-03, ...,\n",
       "         1.00000000e+00, 0.00000000e+00, 1.00000000e+00],\n",
       "        ...,\n",
       "        [1.86776242e-03, 8.91558713e-01, 1.01255569e-03, ...,\n",
       "         1.00000000e+00, 0.00000000e+00, 1.00000000e+00],\n",
       "        [1.68098618e-03, 8.90722942e-01, 8.10044552e-04, ...,\n",
       "         1.00000000e+00, 0.00000000e+00, 1.00000000e+00],\n",
       "        [1.86776242e-03, 8.89678228e-01, 8.10044552e-04, ...,\n",
       "         1.00000000e+00, 0.00000000e+00, 1.00000000e+00]],\n",
       "\n",
       "       ...,\n",
       "\n",
       "       [[1.86776242e-03, 8.67530297e-01, 1.01255569e-03, ...,\n",
       "         1.00000000e+00, 0.00000000e+00, 1.00000000e+00],\n",
       "        [1.86776242e-03, 8.65858755e-01, 1.21506683e-03, ...,\n",
       "         1.00000000e+00, 0.00000000e+00, 1.00000000e+00],\n",
       "        [1.86776242e-03, 8.64396155e-01, 1.01255569e-03, ...,\n",
       "         1.00000000e+00, 0.00000000e+00, 1.00000000e+00],\n",
       "        ...,\n",
       "        [1.86776242e-03, 8.57083159e-01, 1.01255569e-03, ...,\n",
       "         1.00000000e+00, 0.00000000e+00, 1.00000000e+00],\n",
       "        [1.68098618e-03, 8.55411617e-01, 1.01255569e-03, ...,\n",
       "         1.00000000e+00, 0.00000000e+00, 1.00000000e+00],\n",
       "        [1.68098618e-03, 8.53949018e-01, 1.21506683e-03, ...,\n",
       "         1.00000000e+00, 0.00000000e+00, 1.00000000e+00]],\n",
       "\n",
       "       [[1.86776242e-03, 8.65858755e-01, 1.21506683e-03, ...,\n",
       "         1.00000000e+00, 0.00000000e+00, 1.00000000e+00],\n",
       "        [1.86776242e-03, 8.64396155e-01, 1.01255569e-03, ...,\n",
       "         1.00000000e+00, 0.00000000e+00, 1.00000000e+00],\n",
       "        [1.86776242e-03, 8.62933556e-01, 1.01255569e-03, ...,\n",
       "         1.00000000e+00, 0.00000000e+00, 1.00000000e+00],\n",
       "        ...,\n",
       "        [1.68098618e-03, 8.55411617e-01, 1.01255569e-03, ...,\n",
       "         1.00000000e+00, 0.00000000e+00, 1.00000000e+00],\n",
       "        [1.68098618e-03, 8.53949018e-01, 1.21506683e-03, ...,\n",
       "         1.00000000e+00, 0.00000000e+00, 1.00000000e+00],\n",
       "        [1.68098618e-03, 8.52486419e-01, 1.01255569e-03, ...,\n",
       "         1.00000000e+00, 0.00000000e+00, 1.00000000e+00]],\n",
       "\n",
       "       [[1.86776242e-03, 8.64396155e-01, 1.01255569e-03, ...,\n",
       "         1.00000000e+00, 0.00000000e+00, 1.00000000e+00],\n",
       "        [1.86776242e-03, 8.62933556e-01, 1.01255569e-03, ...,\n",
       "         1.00000000e+00, 0.00000000e+00, 1.00000000e+00],\n",
       "        [1.86776242e-03, 8.61262014e-01, 1.01255569e-03, ...,\n",
       "         1.00000000e+00, 0.00000000e+00, 1.00000000e+00],\n",
       "        ...,\n",
       "        [1.68098618e-03, 8.53949018e-01, 1.21506683e-03, ...,\n",
       "         1.00000000e+00, 0.00000000e+00, 1.00000000e+00],\n",
       "        [1.68098618e-03, 8.52486419e-01, 1.01255569e-03, ...,\n",
       "         1.00000000e+00, 0.00000000e+00, 1.00000000e+00],\n",
       "        [1.86776242e-03, 8.51023819e-01, 1.01255569e-03, ...,\n",
       "         1.00000000e+00, 0.00000000e+00, 1.00000000e+00]]])"
      ]
     },
     "execution_count": 16,
     "metadata": {},
     "output_type": "execute_result"
    }
   ],
   "source": [
    "X"
   ]
  },
  {
   "cell_type": "code",
   "execution_count": 17,
   "metadata": {},
   "outputs": [],
   "source": [
    "def create_semi_supervised_lstm_autoencoder(input_shape, l2_lambda=0.001, dropout_rate=0.4):\n",
    "    # Encoder\n",
    "    inputs = Input(shape=input_shape)\n",
    "    encoded = LSTM(64, activation='relu', return_sequences=True, kernel_regularizer=l2(l2_lambda))(inputs)\n",
    "    encoded = Dropout(dropout_rate)(encoded)\n",
    "    encoded = LSTM(32, activation='relu', return_sequences=False, kernel_regularizer=l2(l2_lambda))(encoded)\n",
    "    encoded = Dropout(dropout_rate)(encoded)\n",
    "    \n",
    "    # Decoder\n",
    "    decoded = RepeatVector(input_shape[0])(encoded)\n",
    "    decoded = LSTM(32, activation='relu', return_sequences=True, kernel_regularizer=l2(l2_lambda))(decoded)\n",
    "    decoded = Dropout(0.4)(decoded)\n",
    "\n",
    "    decoded = LSTM(64, activation='relu', return_sequences=True, kernel_regularizer=l2(l2_lambda))(decoded)\n",
    "    \n",
    "    # Reconstruction output\n",
    "    reconstruction = TimeDistributed(Dense(input_shape[1]), name=\"reconstruction\")(decoded)\n",
    "    \n",
    "    # Classification Head\n",
    "    classification = Dense(1, activation='sigmoid', name=\"classification\")(encoded)\n",
    "\n",
    "    # Define the model\n",
    "    autoencoder = Model(inputs, outputs=[reconstruction, classification])\n",
    "    autoencoder.compile(\n",
    "        optimizer=Adam(learning_rate=0.0005), \n",
    "        loss={\"reconstruction\": \"mean_squared_error\", \"classification\": \"binary_crossentropy\"},\n",
    "        loss_weights={\"reconstruction\": 0.5, \"classification\": 0.5}\n",
    "    )\n",
    "    \n",
    "    return autoencoder\n"
   ]
  },
  {
   "cell_type": "code",
   "execution_count": 18,
   "metadata": {},
   "outputs": [
    {
     "name": "stdout",
     "output_type": "stream",
     "text": [
      "Epoch 1/5\n",
      "\u001b[1m29919/29919\u001b[0m \u001b[32m━━━━━━━━━━━━━━━━━━━━\u001b[0m\u001b[37m\u001b[0m \u001b[1m418s\u001b[0m 14ms/step - loss: 0.0214 - val_loss: 0.0331\n",
      "Epoch 2/5\n",
      "\u001b[1m29919/29919\u001b[0m \u001b[32m━━━━━━━━━━━━━━━━━━━━\u001b[0m\u001b[37m\u001b[0m \u001b[1m371s\u001b[0m 12ms/step - loss: 0.0055 - val_loss: 0.0320\n",
      "Epoch 3/5\n",
      "\u001b[1m29919/29919\u001b[0m \u001b[32m━━━━━━━━━━━━━━━━━━━━\u001b[0m\u001b[37m\u001b[0m \u001b[1m348s\u001b[0m 12ms/step - loss: 0.0057 - val_loss: 0.0313\n",
      "Epoch 4/5\n",
      "\u001b[1m29919/29919\u001b[0m \u001b[32m━━━━━━━━━━━━━━━━━━━━\u001b[0m\u001b[37m\u001b[0m \u001b[1m350s\u001b[0m 12ms/step - loss: 0.0054 - val_loss: 0.0327\n",
      "Epoch 5/5\n",
      "\u001b[1m29919/29919\u001b[0m \u001b[32m━━━━━━━━━━━━━━━━━━━━\u001b[0m\u001b[37m\u001b[0m \u001b[1m352s\u001b[0m 12ms/step - loss: 0.0059 - val_loss: 0.0321\n"
     ]
    },
    {
     "data": {
      "text/plain": [
       "<keras.src.callbacks.history.History at 0x283a5fcd520>"
      ]
     },
     "execution_count": 18,
     "metadata": {},
     "output_type": "execute_result"
    }
   ],
   "source": [
    "normal_data = X[y == 0]\n",
    "\n",
    "autoencoder = create_semi_supervised_lstm_autoencoder(normal_data[0].shape)\n",
    "autoencoder.fit(\n",
    "    normal_data, [normal_data, np.zeros(len(normal_data))],\n",
    "    epochs=5, batch_size=32, validation_split=0.2\n",
    ")\n"
   ]
  },
  {
   "cell_type": "code",
   "execution_count": 19,
   "metadata": {},
   "outputs": [
    {
     "name": "stdout",
     "output_type": "stream",
     "text": [
      "Epoch 1/5\n",
      "\u001b[1m30549/30549\u001b[0m \u001b[32m━━━━━━━━━━━━━━━━━━━━\u001b[0m\u001b[37m\u001b[0m \u001b[1m363s\u001b[0m 12ms/step - loss: 0.0763 - val_loss: 0.0348\n",
      "Epoch 2/5\n",
      "\u001b[1m30549/30549\u001b[0m \u001b[32m━━━━━━━━━━━━━━━━━━━━\u001b[0m\u001b[37m\u001b[0m \u001b[1m358s\u001b[0m 12ms/step - loss: 0.0359 - val_loss: 0.0346\n",
      "Epoch 3/5\n",
      "\u001b[1m30549/30549\u001b[0m \u001b[32m━━━━━━━━━━━━━━━━━━━━\u001b[0m\u001b[37m\u001b[0m \u001b[1m358s\u001b[0m 12ms/step - loss: 0.0289 - val_loss: 0.0329\n",
      "Epoch 4/5\n",
      "\u001b[1m30549/30549\u001b[0m \u001b[32m━━━━━━━━━━━━━━━━━━━━\u001b[0m\u001b[37m\u001b[0m \u001b[1m356s\u001b[0m 12ms/step - loss: 0.0206 - val_loss: 0.0336\n",
      "Epoch 5/5\n",
      "\u001b[1m30549/30549\u001b[0m \u001b[32m━━━━━━━━━━━━━━━━━━━━\u001b[0m\u001b[37m\u001b[0m \u001b[1m362s\u001b[0m 12ms/step - loss: 0.0177 - val_loss: 0.0330\n"
     ]
    },
    {
     "data": {
      "text/plain": [
       "<keras.src.callbacks.history.History at 0x283b80b3500>"
      ]
     },
     "execution_count": 19,
     "metadata": {},
     "output_type": "execute_result"
    }
   ],
   "source": [
    "autoencoder.fit(\n",
    "    X, [X, y],\n",
    "    epochs=5, batch_size=32, validation_split=0.2,\n",
    "    callbacks=[EarlyStopping(monitor='val_loss', patience=3, restore_best_weights=True)]\n",
    ")\n"
   ]
  },
  {
   "cell_type": "code",
   "execution_count": 24,
   "metadata": {},
   "outputs": [
    {
     "name": "stdout",
     "output_type": "stream",
     "text": [
      "\u001b[1m38186/38186\u001b[0m \u001b[32m━━━━━━━━━━━━━━━━━━━━\u001b[0m\u001b[37m\u001b[0m \u001b[1m158s\u001b[0m 4ms/step\n",
      "Accuracy: 0.9946\n",
      "Precision: 0.8147\n",
      "Recall: 0.9536\n",
      "F1 Score: 0.8787\n"
     ]
    }
   ],
   "source": [
    "\n",
    "# Predict using the classification head\n",
    "_, predictions = autoencoder.predict(X)\n",
    "predicted_anomalies = (predictions > 0.5).astype(int)\n",
    "\n",
    "# Evaluate metrics\n",
    "accuracy = accuracy_score(y, predicted_anomalies)\n",
    "precision = precision_score(y, predicted_anomalies)\n",
    "recall = recall_score(y, predicted_anomalies)\n",
    "f1 = f1_score(y, predicted_anomalies)\n",
    "print(f\"Accuracy: {accuracy:.4f}\")\n",
    "print(f\"Precision: {precision:.4f}\")\n",
    "print(f\"Recall: {recall:.4f}\")\n",
    "print(f\"F1 Score: {f1:.4f}\")\n"
   ]
  },
  {
   "cell_type": "code",
   "execution_count": 25,
   "metadata": {},
   "outputs": [
    {
     "name": "stdout",
     "output_type": "stream",
     "text": [
      "[[1191263    5468]\n",
      " [   1170   24037]]\n"
     ]
    }
   ],
   "source": [
    "conf_matrix=confusion_matrix(y, predicted_anomalies)\n",
    "print(conf_matrix)\n"
   ]
  },
  {
   "cell_type": "code",
   "execution_count": 29,
   "metadata": {},
   "outputs": [
    {
     "name": "stdout",
     "output_type": "stream",
     "text": [
      "Index(['TP2', 'TP3', 'DV_pressure', 'Oil_temperature', 'Motor_current',\n",
      "       'DV_eletric', 'Towers', 'MPG', 'LPS', 'Oil_level'],\n",
      "      dtype='object')\n",
      "(295000, 10)\n"
     ]
    },
    {
     "data": {
      "text/plain": [
       "(array([[[0.76671647, 0.75470121, 0.19947347, ..., 0.        ,\n",
       "          0.        , 1.        ],\n",
       "         [0.56817333, 0.75428333, 0.13345484, ..., 0.        ,\n",
       "          0.        , 1.        ],\n",
       "         [0.71441913, 0.75198496, 0.181855  , ..., 0.        ,\n",
       "          0.        , 1.        ],\n",
       "         ...,\n",
       "         [0.60870377, 0.75323861, 0.1472256 , ..., 0.        ,\n",
       "          0.        , 1.        ],\n",
       "         [0.73907359, 0.7507313 , 0.19015796, ..., 0.        ,\n",
       "          0.        , 1.        ],\n",
       "         [0.76447516, 0.75094024, 0.19866343, ..., 0.        ,\n",
       "          0.        , 1.        ]],\n",
       " \n",
       "        [[0.56817333, 0.75428333, 0.13345484, ..., 0.        ,\n",
       "          0.        , 1.        ],\n",
       "         [0.71441913, 0.75198496, 0.181855  , ..., 0.        ,\n",
       "          0.        , 1.        ],\n",
       "         [0.76092641, 0.75094024, 0.19744836, ..., 0.        ,\n",
       "          0.        , 1.        ],\n",
       "         ...,\n",
       "         [0.73907359, 0.7507313 , 0.19015796, ..., 0.        ,\n",
       "          0.        , 1.        ],\n",
       "         [0.76447516, 0.75094024, 0.19866343, ..., 0.        ,\n",
       "          0.        , 1.        ],\n",
       "         [0.76522226, 0.75240284, 0.19866343, ..., 0.        ,\n",
       "          0.        , 1.        ]],\n",
       " \n",
       "        [[0.71441913, 0.75198496, 0.181855  , ..., 0.        ,\n",
       "          0.        , 1.        ],\n",
       "         [0.76092641, 0.75094024, 0.19744836, ..., 0.        ,\n",
       "          0.        , 1.        ],\n",
       "         [0.76186029, 0.7521939 , 0.19805589, ..., 0.        ,\n",
       "          0.        , 1.        ],\n",
       "         ...,\n",
       "         [0.76447516, 0.75094024, 0.19866343, ..., 0.        ,\n",
       "          0.        , 1.        ],\n",
       "         [0.76522226, 0.75240284, 0.19866343, ..., 0.        ,\n",
       "          0.        , 1.        ],\n",
       "         [0.76578259, 0.7536565 , 0.19947347, ..., 0.        ,\n",
       "          0.        , 1.        ]],\n",
       " \n",
       "        ...,\n",
       " \n",
       "        [[0.00186776, 0.81445884, 0.00121507, ..., 1.        ,\n",
       "          0.        , 1.        ],\n",
       "         [0.00186776, 0.8127873 , 0.00121507, ..., 1.        ,\n",
       "          0.        , 1.        ],\n",
       "         [0.00186776, 0.8113247 , 0.00121507, ..., 1.        ,\n",
       "          0.        , 1.        ],\n",
       "         ...,\n",
       "         [0.00186776, 0.80338487, 0.00101256, ..., 1.        ,\n",
       "          0.        , 1.        ],\n",
       "         [0.00168099, 0.80192227, 0.00101256, ..., 1.        ,\n",
       "          0.        , 1.        ],\n",
       "         [0.00205454, 0.80045967, 0.00121507, ..., 1.        ,\n",
       "          0.        , 1.        ]],\n",
       " \n",
       "        [[0.00186776, 0.8127873 , 0.00121507, ..., 1.        ,\n",
       "          0.        , 1.        ],\n",
       "         [0.00186776, 0.8113247 , 0.00121507, ..., 1.        ,\n",
       "          0.        , 1.        ],\n",
       "         [0.00186776, 0.80965316, 0.00121507, ..., 1.        ,\n",
       "          0.        , 1.        ],\n",
       "         ...,\n",
       "         [0.00168099, 0.80192227, 0.00101256, ..., 1.        ,\n",
       "          0.        , 1.        ],\n",
       "         [0.00205454, 0.80045967, 0.00121507, ..., 1.        ,\n",
       "          0.        , 1.        ],\n",
       "         [0.00186776, 0.79878813, 0.00121507, ..., 1.        ,\n",
       "          0.        , 1.        ]],\n",
       " \n",
       "        [[0.00186776, 0.8113247 , 0.00121507, ..., 1.        ,\n",
       "          0.        , 1.        ],\n",
       "         [0.00186776, 0.80965316, 0.00121507, ..., 1.        ,\n",
       "          0.        , 1.        ],\n",
       "         [0.00168099, 0.80798161, 0.00101256, ..., 1.        ,\n",
       "          0.        , 1.        ],\n",
       "         ...,\n",
       "         [0.00205454, 0.80045967, 0.00121507, ..., 1.        ,\n",
       "          0.        , 1.        ],\n",
       "         [0.00186776, 0.79878813, 0.00121507, ..., 1.        ,\n",
       "          0.        , 1.        ],\n",
       "         [0.00186776, 0.79711659, 0.00101256, ..., 1.        ,\n",
       "          0.        , 1.        ]]]),\n",
       " 0         1\n",
       " 1         1\n",
       " 2         1\n",
       " 3         1\n",
       " 4         1\n",
       "          ..\n",
       " 294995    0\n",
       " 294996    0\n",
       " 294997    0\n",
       " 294998    0\n",
       " 294999    0\n",
       " Name: Air_Leak, Length: 295000, dtype: int64)"
      ]
     },
     "execution_count": 29,
     "metadata": {},
     "output_type": "execute_result"
    }
   ],
   "source": [
    "def preprocess(df):\n",
    "    test_data=pd.read_csv(f\"../data/processed/{df}.csv\")\n",
    "    test_data['timestamp']=pd.to_datetime(test_data[\"timestamp\"])\n",
    "    y=test_data[\"Air_Leak\"]\n",
    "    test_data.drop(columns=[\"Air_Leak\",\"Reservoirs\",\"COMP\",\"Caudal_impulses\",\"Pressure_switch\",\"H1\"],inplace=True)\n",
    "    test_data.set_index('timestamp', inplace=True)\n",
    "\n",
    "    test_data.sort_index(inplace=True)\n",
    " \n",
    "    print(test_data.columns)\n",
    "\n",
    "    \n",
    "    scaled_data = scaler.transform(test_data)  \n",
    "    print(scaled_data.shape)\n",
    "    new_data_sequences,_ = create_sequences(scaled_data,labels=np.zeros(len(scaled_data)) ,sequence_length=10)\n",
    "    return new_data_sequences,y\n",
    "\n",
    "preprocess(\"data_v2\")\n",
    "        \n"
   ]
  },
  {
   "cell_type": "code",
   "execution_count": null,
   "metadata": {},
   "outputs": [
    {
     "name": "stdout",
     "output_type": "stream",
     "text": [
      "Index(['TP2', 'TP3', 'DV_pressure', 'Oil_temperature', 'Motor_current',\n",
      "       'DV_eletric', 'Towers', 'MPG', 'LPS', 'Oil_level'],\n",
      "      dtype='object')\n",
      "(295000, 10)\n",
      "\u001b[1m9219/9219\u001b[0m \u001b[32m━━━━━━━━━━━━━━━━━━━━\u001b[0m\u001b[37m\u001b[0m \u001b[1m41s\u001b[0m 4ms/step\n"
     ]
    }
   ],
   "source": [
    "new_seq,true_labels=preprocess(\"data_v2\")\n",
    "_,predictions = autoencoder.predict(new_seq)\n",
    "\n",
    "\n"
   ]
  },
  {
   "cell_type": "code",
   "execution_count": 35,
   "metadata": {},
   "outputs": [
    {
     "name": "stdout",
     "output_type": "stream",
     "text": [
      "Accuractrue_labels: 0.9939\n",
      "Precision: 0.9489\n",
      "Recall: 0.6575\n",
      "F1 Score: 0.7768\n"
     ]
    }
   ],
   "source": [
    "# Evaluate metrics\n",
    "predicted_anomalies = (predictions > 0.5).astype(int)\n",
    "true_labels=true_labels[:294990]\n",
    "accuracy = accuracy_score(true_labels, predicted_anomalies)\n",
    "precision = precision_score(true_labels, predicted_anomalies)\n",
    "recall = recall_score(true_labels, predicted_anomalies)\n",
    "f1 = f1_score(true_labels, predicted_anomalies)\n",
    "print(f\"Accuractrue_labels: {accuracy:.4f}\")\n",
    "print(f\"Precision: {precision:.4f}\")\n",
    "print(f\"Recall: {recall:.4f}\")\n",
    "print(f\"F1 Score: {f1:.4f}\")"
   ]
  },
  {
   "cell_type": "code",
   "execution_count": 37,
   "metadata": {},
   "outputs": [
    {
     "name": "stdout",
     "output_type": "stream",
     "text": [
      "[[290075    168]\n",
      " [  1626   3121]]\n"
     ]
    }
   ],
   "source": [
    "conf_matrix=confusion_matrix(true_labels, predicted_anomalies)\n",
    "print(conf_matrix)\n"
   ]
  },
  {
   "cell_type": "code",
   "execution_count": null,
   "metadata": {},
   "outputs": [],
   "source": []
  }
 ],
 "metadata": {
  "kernelspec": {
   "display_name": "Python 3",
   "language": "python",
   "name": "python3"
  },
  "language_info": {
   "codemirror_mode": {
    "name": "ipython",
    "version": 3
   },
   "file_extension": ".py",
   "mimetype": "text/x-python",
   "name": "python",
   "nbconvert_exporter": "python",
   "pygments_lexer": "ipython3",
   "version": "3.12.3"
  }
 },
 "nbformat": 4,
 "nbformat_minor": 2
}
