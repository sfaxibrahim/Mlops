{
 "cells": [
  {
   "cell_type": "code",
   "execution_count": 1,
   "metadata": {},
   "outputs": [],
   "source": [
    "import numpy as np\n",
    "from keras.models import Sequential\n",
    "from keras.layers import LSTM, Input, Dropout\n",
    "from keras.layers import Dense\n",
    "from keras.layers import RepeatVector\n",
    "from keras.layers import TimeDistributed\n",
    "from sklearn.model_selection import train_test_split\n",
    "import pandas as pd\n",
    "from matplotlib import pyplot as plt\n",
    "from sklearn.preprocessing import MinMaxScaler, StandardScaler\n",
    "from keras.models import Model\n",
    "import seaborn as sns\n"
   ]
  },
  {
   "cell_type": "code",
   "execution_count": 2,
   "metadata": {},
   "outputs": [
    {
     "name": "stdout",
     "output_type": "stream",
     "text": [
      "C:\\Users\\MSI\\Desktop\\Mlops\\Mlops\\metrodata\\MetroPT3(AirCompressor).csv\n"
     ]
    }
   ],
   "source": [
    "from pathlib import Path\n",
    "data_path = Path(\"../metrodata/MetroPT3(AirCompressor).csv\")\n",
    "print(data_path.resolve())"
   ]
  },
  {
   "cell_type": "code",
   "execution_count": 3,
   "metadata": {},
   "outputs": [],
   "source": [
    "# data_path=Path(\"C:/Users/MSI/Desktop/Ml bassem/Mlops/Mlops/data/MetroPT3(AirCompressor).csv\")\n",
    "\n",
    "data=pd.read_csv(data_path)"
   ]
  },
  {
   "cell_type": "code",
   "execution_count": 4,
   "metadata": {},
   "outputs": [
    {
     "data": {
      "text/html": [
       "<div>\n",
       "<style scoped>\n",
       "    .dataframe tbody tr th:only-of-type {\n",
       "        vertical-align: middle;\n",
       "    }\n",
       "\n",
       "    .dataframe tbody tr th {\n",
       "        vertical-align: top;\n",
       "    }\n",
       "\n",
       "    .dataframe thead th {\n",
       "        text-align: right;\n",
       "    }\n",
       "</style>\n",
       "<table border=\"1\" class=\"dataframe\">\n",
       "  <thead>\n",
       "    <tr style=\"text-align: right;\">\n",
       "      <th></th>\n",
       "      <th>Unnamed: 0</th>\n",
       "      <th>timestamp</th>\n",
       "      <th>TP2</th>\n",
       "      <th>TP3</th>\n",
       "      <th>H1</th>\n",
       "      <th>DV_pressure</th>\n",
       "      <th>Reservoirs</th>\n",
       "      <th>Oil_temperature</th>\n",
       "      <th>Motor_current</th>\n",
       "      <th>COMP</th>\n",
       "      <th>DV_eletric</th>\n",
       "      <th>Towers</th>\n",
       "      <th>MPG</th>\n",
       "      <th>LPS</th>\n",
       "      <th>Pressure_switch</th>\n",
       "      <th>Oil_level</th>\n",
       "      <th>Caudal_impulses</th>\n",
       "    </tr>\n",
       "  </thead>\n",
       "  <tbody>\n",
       "    <tr>\n",
       "      <th>0</th>\n",
       "      <td>0</td>\n",
       "      <td>2020-02-01 00:00:00</td>\n",
       "      <td>-0.012</td>\n",
       "      <td>9.358</td>\n",
       "      <td>9.340</td>\n",
       "      <td>-0.024</td>\n",
       "      <td>9.358</td>\n",
       "      <td>53.600</td>\n",
       "      <td>0.0400</td>\n",
       "      <td>1.0</td>\n",
       "      <td>0.0</td>\n",
       "      <td>1.0</td>\n",
       "      <td>1.0</td>\n",
       "      <td>0.0</td>\n",
       "      <td>1.0</td>\n",
       "      <td>1.0</td>\n",
       "      <td>1.0</td>\n",
       "    </tr>\n",
       "    <tr>\n",
       "      <th>1</th>\n",
       "      <td>10</td>\n",
       "      <td>2020-02-01 00:00:10</td>\n",
       "      <td>-0.014</td>\n",
       "      <td>9.348</td>\n",
       "      <td>9.332</td>\n",
       "      <td>-0.022</td>\n",
       "      <td>9.348</td>\n",
       "      <td>53.675</td>\n",
       "      <td>0.0400</td>\n",
       "      <td>1.0</td>\n",
       "      <td>0.0</td>\n",
       "      <td>1.0</td>\n",
       "      <td>1.0</td>\n",
       "      <td>0.0</td>\n",
       "      <td>1.0</td>\n",
       "      <td>1.0</td>\n",
       "      <td>1.0</td>\n",
       "    </tr>\n",
       "    <tr>\n",
       "      <th>2</th>\n",
       "      <td>20</td>\n",
       "      <td>2020-02-01 00:00:19</td>\n",
       "      <td>-0.012</td>\n",
       "      <td>9.338</td>\n",
       "      <td>9.322</td>\n",
       "      <td>-0.022</td>\n",
       "      <td>9.338</td>\n",
       "      <td>53.600</td>\n",
       "      <td>0.0425</td>\n",
       "      <td>1.0</td>\n",
       "      <td>0.0</td>\n",
       "      <td>1.0</td>\n",
       "      <td>1.0</td>\n",
       "      <td>0.0</td>\n",
       "      <td>1.0</td>\n",
       "      <td>1.0</td>\n",
       "      <td>1.0</td>\n",
       "    </tr>\n",
       "    <tr>\n",
       "      <th>3</th>\n",
       "      <td>30</td>\n",
       "      <td>2020-02-01 00:00:29</td>\n",
       "      <td>-0.012</td>\n",
       "      <td>9.328</td>\n",
       "      <td>9.312</td>\n",
       "      <td>-0.022</td>\n",
       "      <td>9.328</td>\n",
       "      <td>53.425</td>\n",
       "      <td>0.0400</td>\n",
       "      <td>1.0</td>\n",
       "      <td>0.0</td>\n",
       "      <td>1.0</td>\n",
       "      <td>1.0</td>\n",
       "      <td>0.0</td>\n",
       "      <td>1.0</td>\n",
       "      <td>1.0</td>\n",
       "      <td>1.0</td>\n",
       "    </tr>\n",
       "    <tr>\n",
       "      <th>4</th>\n",
       "      <td>40</td>\n",
       "      <td>2020-02-01 00:00:39</td>\n",
       "      <td>-0.012</td>\n",
       "      <td>9.318</td>\n",
       "      <td>9.302</td>\n",
       "      <td>-0.022</td>\n",
       "      <td>9.318</td>\n",
       "      <td>53.475</td>\n",
       "      <td>0.0400</td>\n",
       "      <td>1.0</td>\n",
       "      <td>0.0</td>\n",
       "      <td>1.0</td>\n",
       "      <td>1.0</td>\n",
       "      <td>0.0</td>\n",
       "      <td>1.0</td>\n",
       "      <td>1.0</td>\n",
       "      <td>1.0</td>\n",
       "    </tr>\n",
       "  </tbody>\n",
       "</table>\n",
       "</div>"
      ],
      "text/plain": [
       "   Unnamed: 0            timestamp    TP2    TP3     H1  DV_pressure  \\\n",
       "0           0  2020-02-01 00:00:00 -0.012  9.358  9.340       -0.024   \n",
       "1          10  2020-02-01 00:00:10 -0.014  9.348  9.332       -0.022   \n",
       "2          20  2020-02-01 00:00:19 -0.012  9.338  9.322       -0.022   \n",
       "3          30  2020-02-01 00:00:29 -0.012  9.328  9.312       -0.022   \n",
       "4          40  2020-02-01 00:00:39 -0.012  9.318  9.302       -0.022   \n",
       "\n",
       "   Reservoirs  Oil_temperature  Motor_current  COMP  DV_eletric  Towers  MPG  \\\n",
       "0       9.358           53.600         0.0400   1.0         0.0     1.0  1.0   \n",
       "1       9.348           53.675         0.0400   1.0         0.0     1.0  1.0   \n",
       "2       9.338           53.600         0.0425   1.0         0.0     1.0  1.0   \n",
       "3       9.328           53.425         0.0400   1.0         0.0     1.0  1.0   \n",
       "4       9.318           53.475         0.0400   1.0         0.0     1.0  1.0   \n",
       "\n",
       "   LPS  Pressure_switch  Oil_level  Caudal_impulses  \n",
       "0  0.0              1.0        1.0              1.0  \n",
       "1  0.0              1.0        1.0              1.0  \n",
       "2  0.0              1.0        1.0              1.0  \n",
       "3  0.0              1.0        1.0              1.0  \n",
       "4  0.0              1.0        1.0              1.0  "
      ]
     },
     "execution_count": 4,
     "metadata": {},
     "output_type": "execute_result"
    }
   ],
   "source": [
    "data.head()"
   ]
  },
  {
   "cell_type": "code",
   "execution_count": 5,
   "metadata": {},
   "outputs": [],
   "source": [
    "df = data.drop(['Unnamed: 0'], axis=1)"
   ]
  },
  {
   "cell_type": "code",
   "execution_count": 6,
   "metadata": {},
   "outputs": [
    {
     "data": {
      "text/html": [
       "<div>\n",
       "<style scoped>\n",
       "    .dataframe tbody tr th:only-of-type {\n",
       "        vertical-align: middle;\n",
       "    }\n",
       "\n",
       "    .dataframe tbody tr th {\n",
       "        vertical-align: top;\n",
       "    }\n",
       "\n",
       "    .dataframe thead th {\n",
       "        text-align: right;\n",
       "    }\n",
       "</style>\n",
       "<table border=\"1\" class=\"dataframe\">\n",
       "  <thead>\n",
       "    <tr style=\"text-align: right;\">\n",
       "      <th></th>\n",
       "      <th>timestamp</th>\n",
       "      <th>TP2</th>\n",
       "      <th>TP3</th>\n",
       "      <th>H1</th>\n",
       "      <th>DV_pressure</th>\n",
       "      <th>Reservoirs</th>\n",
       "      <th>Oil_temperature</th>\n",
       "      <th>Motor_current</th>\n",
       "      <th>COMP</th>\n",
       "      <th>DV_eletric</th>\n",
       "      <th>Towers</th>\n",
       "      <th>MPG</th>\n",
       "      <th>LPS</th>\n",
       "      <th>Pressure_switch</th>\n",
       "      <th>Oil_level</th>\n",
       "      <th>Caudal_impulses</th>\n",
       "    </tr>\n",
       "  </thead>\n",
       "  <tbody>\n",
       "    <tr>\n",
       "      <th>0</th>\n",
       "      <td>2020-02-01 00:00:00</td>\n",
       "      <td>-0.012</td>\n",
       "      <td>9.358</td>\n",
       "      <td>9.340</td>\n",
       "      <td>-0.024</td>\n",
       "      <td>9.358</td>\n",
       "      <td>53.600</td>\n",
       "      <td>0.0400</td>\n",
       "      <td>1.0</td>\n",
       "      <td>0.0</td>\n",
       "      <td>1.0</td>\n",
       "      <td>1.0</td>\n",
       "      <td>0.0</td>\n",
       "      <td>1.0</td>\n",
       "      <td>1.0</td>\n",
       "      <td>1.0</td>\n",
       "    </tr>\n",
       "    <tr>\n",
       "      <th>1</th>\n",
       "      <td>2020-02-01 00:00:10</td>\n",
       "      <td>-0.014</td>\n",
       "      <td>9.348</td>\n",
       "      <td>9.332</td>\n",
       "      <td>-0.022</td>\n",
       "      <td>9.348</td>\n",
       "      <td>53.675</td>\n",
       "      <td>0.0400</td>\n",
       "      <td>1.0</td>\n",
       "      <td>0.0</td>\n",
       "      <td>1.0</td>\n",
       "      <td>1.0</td>\n",
       "      <td>0.0</td>\n",
       "      <td>1.0</td>\n",
       "      <td>1.0</td>\n",
       "      <td>1.0</td>\n",
       "    </tr>\n",
       "    <tr>\n",
       "      <th>2</th>\n",
       "      <td>2020-02-01 00:00:19</td>\n",
       "      <td>-0.012</td>\n",
       "      <td>9.338</td>\n",
       "      <td>9.322</td>\n",
       "      <td>-0.022</td>\n",
       "      <td>9.338</td>\n",
       "      <td>53.600</td>\n",
       "      <td>0.0425</td>\n",
       "      <td>1.0</td>\n",
       "      <td>0.0</td>\n",
       "      <td>1.0</td>\n",
       "      <td>1.0</td>\n",
       "      <td>0.0</td>\n",
       "      <td>1.0</td>\n",
       "      <td>1.0</td>\n",
       "      <td>1.0</td>\n",
       "    </tr>\n",
       "    <tr>\n",
       "      <th>3</th>\n",
       "      <td>2020-02-01 00:00:29</td>\n",
       "      <td>-0.012</td>\n",
       "      <td>9.328</td>\n",
       "      <td>9.312</td>\n",
       "      <td>-0.022</td>\n",
       "      <td>9.328</td>\n",
       "      <td>53.425</td>\n",
       "      <td>0.0400</td>\n",
       "      <td>1.0</td>\n",
       "      <td>0.0</td>\n",
       "      <td>1.0</td>\n",
       "      <td>1.0</td>\n",
       "      <td>0.0</td>\n",
       "      <td>1.0</td>\n",
       "      <td>1.0</td>\n",
       "      <td>1.0</td>\n",
       "    </tr>\n",
       "    <tr>\n",
       "      <th>4</th>\n",
       "      <td>2020-02-01 00:00:39</td>\n",
       "      <td>-0.012</td>\n",
       "      <td>9.318</td>\n",
       "      <td>9.302</td>\n",
       "      <td>-0.022</td>\n",
       "      <td>9.318</td>\n",
       "      <td>53.475</td>\n",
       "      <td>0.0400</td>\n",
       "      <td>1.0</td>\n",
       "      <td>0.0</td>\n",
       "      <td>1.0</td>\n",
       "      <td>1.0</td>\n",
       "      <td>0.0</td>\n",
       "      <td>1.0</td>\n",
       "      <td>1.0</td>\n",
       "      <td>1.0</td>\n",
       "    </tr>\n",
       "  </tbody>\n",
       "</table>\n",
       "</div>"
      ],
      "text/plain": [
       "             timestamp    TP2    TP3     H1  DV_pressure  Reservoirs  \\\n",
       "0  2020-02-01 00:00:00 -0.012  9.358  9.340       -0.024       9.358   \n",
       "1  2020-02-01 00:00:10 -0.014  9.348  9.332       -0.022       9.348   \n",
       "2  2020-02-01 00:00:19 -0.012  9.338  9.322       -0.022       9.338   \n",
       "3  2020-02-01 00:00:29 -0.012  9.328  9.312       -0.022       9.328   \n",
       "4  2020-02-01 00:00:39 -0.012  9.318  9.302       -0.022       9.318   \n",
       "\n",
       "   Oil_temperature  Motor_current  COMP  DV_eletric  Towers  MPG  LPS  \\\n",
       "0           53.600         0.0400   1.0         0.0     1.0  1.0  0.0   \n",
       "1           53.675         0.0400   1.0         0.0     1.0  1.0  0.0   \n",
       "2           53.600         0.0425   1.0         0.0     1.0  1.0  0.0   \n",
       "3           53.425         0.0400   1.0         0.0     1.0  1.0  0.0   \n",
       "4           53.475         0.0400   1.0         0.0     1.0  1.0  0.0   \n",
       "\n",
       "   Pressure_switch  Oil_level  Caudal_impulses  \n",
       "0              1.0        1.0              1.0  \n",
       "1              1.0        1.0              1.0  \n",
       "2              1.0        1.0              1.0  \n",
       "3              1.0        1.0              1.0  \n",
       "4              1.0        1.0              1.0  "
      ]
     },
     "execution_count": 6,
     "metadata": {},
     "output_type": "execute_result"
    }
   ],
   "source": [
    "df.head()"
   ]
  },
  {
   "cell_type": "code",
   "execution_count": 7,
   "metadata": {},
   "outputs": [],
   "source": [
    "df['timestamp'] = pd.to_datetime(df['timestamp'])\n",
    "# You want to include the time information as a feature in your model.\n",
    "df['timestamp'] = df['timestamp'].apply(lambda x: x.timestamp())"
   ]
  },
  {
   "cell_type": "code",
   "execution_count": 8,
   "metadata": {},
   "outputs": [
    {
     "name": "stdout",
     "output_type": "stream",
     "text": [
      "Start date is:  1580515200.0\n",
      "End date is:  1598932790.0\n"
     ]
    }
   ],
   "source": [
    "print(\"Start date is: \", df['timestamp'].min())\n",
    "print(\"End date is: \", df['timestamp'].max())"
   ]
  },
  {
   "cell_type": "code",
   "execution_count": 9,
   "metadata": {},
   "outputs": [
    {
     "data": {
      "text/plain": [
       "timestamp          float64\n",
       "TP2                float64\n",
       "TP3                float64\n",
       "H1                 float64\n",
       "DV_pressure        float64\n",
       "Reservoirs         float64\n",
       "Oil_temperature    float64\n",
       "Motor_current      float64\n",
       "COMP               float64\n",
       "DV_eletric         float64\n",
       "Towers             float64\n",
       "MPG                float64\n",
       "LPS                float64\n",
       "Pressure_switch    float64\n",
       "Oil_level          float64\n",
       "Caudal_impulses    float64\n",
       "dtype: object"
      ]
     },
     "execution_count": 9,
     "metadata": {},
     "output_type": "execute_result"
    }
   ],
   "source": [
    "df.dtypes"
   ]
  },
  {
   "cell_type": "code",
   "execution_count": 10,
   "metadata": {},
   "outputs": [],
   "source": [
    "# X = df.drop(columns=['timestamp'])\n",
    "# y = df['timestamp']\n",
    "# X_train, X_test, y_train, y_test = train_test_split(X, y, test_size=0.3) #, random_state=42"
   ]
  },
  {
   "cell_type": "code",
   "execution_count": 11,
   "metadata": {},
   "outputs": [],
   "source": [
    "from sklearn.preprocessing import MinMaxScaler\n",
    "\n",
    "scaler = MinMaxScaler()\n",
    "data_scaled = scaler.fit_transform(df)\n"
   ]
  },
  {
   "cell_type": "code",
   "execution_count": 12,
   "metadata": {},
   "outputs": [],
   "source": [
    "sequence_length = 10  # Number of time steps in each sequence\n",
    "X = []\n",
    "for i in range(len(data_scaled) - sequence_length):\n",
    "    X.append(data_scaled[i:i + sequence_length])\n",
    "X = np.array(X)"
   ]
  },
  {
   "cell_type": "markdown",
   "metadata": {},
   "source": [
    "Build the LSTM Autoencoder"
   ]
  },
  {
   "cell_type": "code",
   "execution_count": 13,
   "metadata": {},
   "outputs": [],
   "source": [
    "# model = Sequential()\n",
    "# model.add(LSTM(128, input_shape=(trainX.shape[1], trainX.shape[2])))\n",
    "# model.add(Dropout(rate=0.2))\n",
    "\n",
    "# model.add(RepeatVector(trainX.shape[1]))\n",
    "\n",
    "# model.add(LSTM(128, return_sequences=True))\n",
    "# model.add(Dropout(rate=0.2))\n",
    "# model.add(TimeDistributed(Dense(trainX.shape[2])))\n",
    "# model.compile(optimizer='adam', loss='mae')\n",
    "# model.summary()"
   ]
  },
  {
   "cell_type": "code",
   "execution_count": 14,
   "metadata": {},
   "outputs": [],
   "source": [
    "from tensorflow.keras.models import Model\n",
    "from tensorflow.keras.layers import Input, LSTM, RepeatVector, TimeDistributed, Dense\n",
    "\n",
    "input_dim = X.shape[2]  # Number of features including timestamp\n",
    "\n",
    "# Encoder\n",
    "inputs = Input(shape=(sequence_length, input_dim))\n",
    "encoded = LSTM(64, activation='relu', return_sequences=False)(inputs)\n",
    "encoded = Dropout(0.2)(encoded)  # Dropout after the LSTM layer\n",
    "encoded = Dense(32, activation='relu')(encoded)\n",
    "\n",
    "# Decoder\n",
    "decoded = RepeatVector(sequence_length)(encoded)\n",
    "decoded = LSTM(64, activation='relu', return_sequences=True)(decoded)\n",
    "decoded = Dropout(0.2)(decoded)  # Dropout after the decoder LSTM layer\n",
    "outputs = TimeDistributed(Dense(input_dim))(decoded)\n",
    "\n",
    "# Autoencoder model\n",
    "autoencoder = Model(inputs, outputs)\n",
    "autoencoder.compile(optimizer='adam', loss='mse')\n"
   ]
  },
  {
   "cell_type": "code",
   "execution_count": 15,
   "metadata": {},
   "outputs": [
    {
     "name": "stdout",
     "output_type": "stream",
     "text": [
      "Epoch 1/5\n",
      "\u001b[1m37924/37924\u001b[0m \u001b[32m━━━━━━━━━━━━━━━━━━━━\u001b[0m\u001b[37m\u001b[0m \u001b[1m247s\u001b[0m 6ms/step - loss: 0.0122 - val_loss: 0.0114\n",
      "Epoch 2/5\n",
      "\u001b[1m37924/37924\u001b[0m \u001b[32m━━━━━━━━━━━━━━━━━━━━\u001b[0m\u001b[37m\u001b[0m \u001b[1m250s\u001b[0m 7ms/step - loss: 0.0035 - val_loss: 0.0094\n",
      "Epoch 3/5\n",
      "\u001b[1m37924/37924\u001b[0m \u001b[32m━━━━━━━━━━━━━━━━━━━━\u001b[0m\u001b[37m\u001b[0m \u001b[1m245s\u001b[0m 6ms/step - loss: 0.0030 - val_loss: 0.0095\n",
      "Epoch 4/5\n",
      "\u001b[1m37924/37924\u001b[0m \u001b[32m━━━━━━━━━━━━━━━━━━━━\u001b[0m\u001b[37m\u001b[0m \u001b[1m222s\u001b[0m 6ms/step - loss: 0.0028 - val_loss: 0.0090\n",
      "Epoch 5/5\n",
      "\u001b[1m37924/37924\u001b[0m \u001b[32m━━━━━━━━━━━━━━━━━━━━\u001b[0m\u001b[37m\u001b[0m \u001b[1m205s\u001b[0m 5ms/step - loss: 0.0027 - val_loss: 0.0090\n"
     ]
    },
    {
     "data": {
      "text/plain": [
       "<keras.src.callbacks.history.History at 0x1de7e1d3d70>"
      ]
     },
     "execution_count": 15,
     "metadata": {},
     "output_type": "execute_result"
    }
   ],
   "source": [
    "autoencoder.fit(X, X, epochs=5, batch_size=32, validation_split=0.2)\n"
   ]
  },
  {
   "cell_type": "code",
   "execution_count": 16,
   "metadata": {},
   "outputs": [
    {
     "name": "stdout",
     "output_type": "stream",
     "text": [
      "\u001b[1m47405/47405\u001b[0m \u001b[32m━━━━━━━━━━━━━━━━━━━━\u001b[0m\u001b[37m\u001b[0m \u001b[1m89s\u001b[0m 2ms/step\n"
     ]
    }
   ],
   "source": [
    "reconstructed = autoencoder.predict(X)\n",
    "reconstruction_error = np.mean(np.square(X - reconstructed), axis=(1, 2))\n"
   ]
  },
  {
   "cell_type": "code",
   "execution_count": 60,
   "metadata": {},
   "outputs": [
    {
     "name": "stdout",
     "output_type": "stream",
     "text": [
      "Total number of samples: 1516938\n",
      "Threshold value (95th percentile): 0.017063328703089752\n",
      "Number of anomalies detected: 75847\n"
     ]
    }
   ],
   "source": [
    "threshold = np.percentile(reconstruction_error, 95)\n",
    "anomalies = reconstruction_error > threshold\n",
    "print(\"Total number of samples:\", len(reconstruction_error))\n",
    "print(\"Threshold value (95th percentile):\", threshold)\n",
    "print(\"Number of anomalies detected:\", np.sum(anomalies))\n"
   ]
  },
  {
   "cell_type": "code",
   "execution_count": 61,
   "metadata": {},
   "outputs": [
    {
     "name": "stdout",
     "output_type": "stream",
     "text": [
      "Percentage of anomalies detected: 5.00%\n"
     ]
    }
   ],
   "source": [
    "percentage_anomalies = (np.sum(anomalies) / len(reconstruction_error)) * 100\n",
    "print(f\"Percentage of anomalies detected: {percentage_anomalies:.2f}%\")\n"
   ]
  },
  {
   "cell_type": "code",
   "execution_count": 62,
   "metadata": {},
   "outputs": [
    {
     "data": {
      "image/png": "[encoded data removed]",
      "text/plain": [
       "<Figure size 1200x600 with 1 Axes>"
      ]
     },
     "metadata": {},
     "output_type": "display_data"
    }
   ],
   "source": [
    "import matplotlib.pyplot as plt\n",
    "\n",
    "# Plot histogram of reconstruction errors\n",
    "plt.figure(figsize=(12, 6))\n",
    "plt.hist(reconstruction_error, bins=50, alpha=0.75, color='blue', label='Reconstruction Error')\n",
    "plt.axvline(x=threshold, color='red', linestyle='--', label=f'Threshold: {threshold}')\n",
    "plt.title('Distribution of Reconstruction Error')\n",
    "plt.xlabel('Reconstruction Error')\n",
    "plt.ylabel('Frequency')\n",
    "plt.legend()\n",
    "plt.show()\n"
   ]
  },
  {
   "cell_type": "markdown",
   "metadata": {},
   "source": [
    "Reconstruction Error Distribution:\n",
    "\n",
    "The majority of the data points have very low reconstruction errors, concentrated around 0. This suggests that the model has reconstructed these data points very well, indicating they are likely normal or non-anomalous.\n",
    "A small portion of the data points has higher reconstruction errors, but these are much less frequent."
   ]
  },
  {
   "cell_type": "code",
   "execution_count": 63,
   "metadata": {},
   "outputs": [
    {
     "data": {
      "image/png": "[encoded data removed]",
      "text/plain": [
       "<Figure size 1200x600 with 1 Axes>"
      ]
     },
     "metadata": {},
     "output_type": "display_data"
    }
   ],
   "source": [
    "plt.figure(figsize=(12, 6))\n",
    "plt.plot(reconstruction_error, label='Reconstruction Error')\n",
    "plt.axhline(y=threshold, color='r', linestyle='--', label='Threshold')\n",
    "plt.title('Reconstruction Error Over Time')\n",
    "plt.xlabel('Time Step')\n",
    "plt.ylabel('Reconstruction Error')\n",
    "plt.legend()\n",
    "plt.show()\n"
   ]
  },
  {
   "cell_type": "code",
   "execution_count": 37,
   "metadata": {},
   "outputs": [
    {
     "name": "stdout",
     "output_type": "stream",
     "text": [
      "Anomalous timestamps:\n",
      "144       2020-02-01 00:23:47\n",
      "145       2020-02-01 00:23:57\n",
      "146       2020-02-01 00:24:07\n",
      "147       2020-02-01 00:24:17\n",
      "148       2020-02-01 00:24:27\n",
      "                  ...        \n",
      "1516724   2020-09-01 03:23:00\n",
      "1516865   2020-09-01 03:46:17\n",
      "1516866   2020-09-01 03:46:27\n",
      "1516867   2020-09-01 03:46:37\n",
      "1516868   2020-09-01 03:46:47\n",
      "Name: timestamp, Length: 75847, dtype: datetime64[ns]\n"
     ]
    }
   ],
   "source": [
    "anomalous_indices = np.where(anomalies)[0]\n",
    "anomalous_timestamps = df.iloc[anomalous_indices]['timestamp']\n",
    "print(\"Anomalous timestamps:\")\n",
    "print(anomalous_timestamps)\n"
   ]
  },
  {
   "cell_type": "code",
   "execution_count": 38,
   "metadata": {},
   "outputs": [
    {
     "name": "stdout",
     "output_type": "stream",
     "text": [
      "Anomalous timestamps:\n",
      "144       2020-02-01 00:23:47\n",
      "145       2020-02-01 00:23:57\n",
      "146       2020-02-01 00:24:07\n",
      "147       2020-02-01 00:24:17\n",
      "148       2020-02-01 00:24:27\n",
      "                  ...        \n",
      "1516724   2020-09-01 03:23:00\n",
      "1516865   2020-09-01 03:46:17\n",
      "1516866   2020-09-01 03:46:27\n",
      "1516867   2020-09-01 03:46:37\n",
      "1516868   2020-09-01 03:46:47\n",
      "Name: timestamp, Length: 75847, dtype: datetime64[ns]\n"
     ]
    }
   ],
   "source": [
    "# Convert the 'timestamp' column from Unix timestamp (float64) to datetime\n",
    "df['timestamp'] = pd.to_datetime(df['timestamp'], unit='s')\n",
    "\n",
    "# Now, print the anomalous timestamps to check the result\n",
    "anomalous_timestamps = df.iloc[anomalous_indices]['timestamp']\n",
    "print(\"Anomalous timestamps:\")\n",
    "print(anomalous_timestamps)\n"
   ]
  },
  {
   "cell_type": "markdown",
   "metadata": {},
   "source": [
    "Check if anomalous timestamps are within the failure time windows"
   ]
  },
  {
   "cell_type": "code",
   "execution_count": 39,
   "metadata": {},
   "outputs": [
    {
     "name": "stdout",
     "output_type": "stream",
     "text": [
      "           Start Time            End Time   Failure\n",
      "0 2020-04-18 00:00:00 2020-04-18 23:59:00  Air Leak\n",
      "1 2020-05-29 23:30:00 2020-05-30 06:00:00  Air Leak\n",
      "2 2020-06-05 10:00:00 2020-06-07 14:30:00  Air Leak\n",
      "3 2020-07-15 14:30:00 2020-07-15 19:00:00  Air Leak\n"
     ]
    }
   ],
   "source": [
    "failure_reports = {\n",
    "    'Start Time': ['2020-04-18 00:00', '2020-05-29 23:30', '2020-06-05 10:00', '2020-07-15 14:30'],\n",
    "    'End Time': ['2020-04-18 23:59', '2020-05-30 06:00', '2020-06-07 14:30', '2020-07-15 19:00'],\n",
    "    'Failure': ['Air Leak', 'Air Leak', 'Air Leak', 'Air Leak']\n",
    "    \n",
    "}\n",
    "\n",
    "# Convert to DataFrame\n",
    "failure_df = pd.DataFrame(failure_reports)\n",
    "\n",
    "# Convert Start Time and End Time to datetime\n",
    "failure_df['Start Time'] = pd.to_datetime(failure_df['Start Time'])\n",
    "failure_df['End Time'] = pd.to_datetime(failure_df['End Time'])\n",
    "\n",
    "print(failure_df)\n"
   ]
  },
  {
   "cell_type": "code",
   "execution_count": 40,
   "metadata": {},
   "outputs": [
    {
     "data": {
      "text/plain": [
       "144       2020-02-01 00:23:47\n",
       "145       2020-02-01 00:23:57\n",
       "146       2020-02-01 00:24:07\n",
       "147       2020-02-01 00:24:17\n",
       "148       2020-02-01 00:24:27\n",
       "                  ...        \n",
       "1516724   2020-09-01 03:23:00\n",
       "1516865   2020-09-01 03:46:17\n",
       "1516866   2020-09-01 03:46:27\n",
       "1516867   2020-09-01 03:46:37\n",
       "1516868   2020-09-01 03:46:47\n",
       "Name: timestamp, Length: 75847, dtype: datetime64[ns]"
      ]
     },
     "execution_count": 40,
     "metadata": {},
     "output_type": "execute_result"
    }
   ],
   "source": [
    "# Loop through each anomalous timestamp and check if it falls within any of the failure report windows\n",
    "anomalous_timestamps = pd.to_datetime(anomalous_timestamps)  # Ensure anomalous timestamps are in datetime format\n",
    "anomalous_timestamps"
   ]
  },
  {
   "cell_type": "code",
   "execution_count": 41,
   "metadata": {},
   "outputs": [
    {
     "name": "stdout",
     "output_type": "stream",
     "text": [
      "     Anomaly Timestamp   Failure\n",
      "0  2020-04-18 00:16:31  Air Leak\n",
      "1  2020-04-18 00:16:43  Air Leak\n",
      "2  2020-04-18 00:16:54  Air Leak\n",
      "3  2020-04-18 00:17:06  Air Leak\n",
      "4  2020-04-18 00:17:18  Air Leak\n",
      "5  2020-04-18 00:17:30  Air Leak\n",
      "6  2020-05-30 05:55:47  Air Leak\n",
      "7  2020-05-30 05:55:57  Air Leak\n",
      "8  2020-05-30 05:56:06  Air Leak\n",
      "9  2020-05-30 05:56:16  Air Leak\n",
      "10 2020-05-30 05:56:26  Air Leak\n",
      "11 2020-06-06 15:54:08  Air Leak\n",
      "12 2020-06-06 15:54:18  Air Leak\n",
      "13 2020-06-06 15:54:28  Air Leak\n",
      "14 2020-06-06 15:54:38  Air Leak\n",
      "15 2020-06-06 15:54:47  Air Leak\n",
      "16 2020-06-06 15:54:57  Air Leak\n",
      "17 2020-06-06 15:55:07  Air Leak\n",
      "18 2020-06-06 20:02:09  Air Leak\n",
      "19 2020-06-06 20:02:19  Air Leak\n",
      "20 2020-06-06 20:02:29  Air Leak\n",
      "21 2020-06-06 20:02:39  Air Leak\n",
      "22 2020-06-06 20:02:49  Air Leak\n",
      "23 2020-06-07 02:12:24  Air Leak\n",
      "24 2020-06-07 02:12:34  Air Leak\n",
      "25 2020-06-07 02:12:44  Air Leak\n",
      "26 2020-06-07 02:12:54  Air Leak\n",
      "27 2020-06-07 02:13:04  Air Leak\n",
      "28 2020-06-07 02:13:14  Air Leak\n",
      "29 2020-06-07 02:13:24  Air Leak\n",
      "30 2020-06-07 03:16:19  Air Leak\n",
      "31 2020-06-07 03:16:29  Air Leak\n",
      "32 2020-06-07 03:16:39  Air Leak\n",
      "33 2020-06-07 03:16:49  Air Leak\n",
      "34 2020-06-07 03:16:59  Air Leak\n",
      "35 2020-06-07 03:17:09  Air Leak\n",
      "36 2020-06-07 14:18:30  Air Leak\n",
      "37 2020-06-07 14:18:40  Air Leak\n",
      "38 2020-06-07 14:18:50  Air Leak\n",
      "39 2020-06-07 14:19:00  Air Leak\n",
      "40 2020-06-07 14:19:10  Air Leak\n",
      "41 2020-06-07 14:19:20  Air Leak\n",
      "42 2020-06-07 14:19:29  Air Leak\n",
      "43 2020-06-07 14:19:39  Air Leak\n",
      "44 2020-07-15 17:18:52  Air Leak\n",
      "45 2020-07-15 17:19:02  Air Leak\n",
      "46 2020-07-15 17:19:12  Air Leak\n",
      "47 2020-07-15 17:19:22  Air Leak\n",
      "48 2020-07-15 17:19:32  Air Leak\n",
      "49 2020-07-15 17:19:41  Air Leak\n",
      "50 2020-07-15 17:19:51  Air Leak\n",
      "51 2020-07-15 18:31:35  Air Leak\n",
      "52 2020-07-15 18:48:56  Air Leak\n",
      "53 2020-07-15 18:49:06  Air Leak\n",
      "54 2020-07-15 18:49:16  Air Leak\n",
      "55 2020-07-15 18:49:26  Air Leak\n",
      "56 2020-07-15 18:52:04  Air Leak\n",
      "57 2020-07-15 18:52:14  Air Leak\n",
      "58 2020-07-15 18:52:24  Air Leak\n",
      "59 2020-07-15 18:52:34  Air Leak\n"
     ]
    }
   ],
   "source": [
    "\n",
    "\n",
    "# Create a list to store the corresponding failure reports\n",
    "matching_failures = []\n",
    "\n",
    "for anomaly_time in anomalous_timestamps:\n",
    "    for index, row in failure_df.iterrows():\n",
    "        if row['Start Time'] <= anomaly_time <= row['End Time']:\n",
    "            matching_failures.append((anomaly_time, row['Failure']))\n",
    "\n",
    "# Display the matching anomalous timestamps with the failure report details\n",
    "matching_failures_df = pd.DataFrame(matching_failures, columns=['Anomaly Timestamp', 'Failure'])\n",
    "print(matching_failures_df)\n"
   ]
  },
  {
   "cell_type": "code",
   "execution_count": 42,
   "metadata": {},
   "outputs": [
    {
     "name": "stdout",
     "output_type": "stream",
     "text": [
      "Total anomalies: 75847\n",
      "True positives: 60\n",
      "Percentage of correct correspondences: 0.08%\n"
     ]
    }
   ],
   "source": [
    "TP = len(matching_failures)  # Number of anomalous timestamps that correspond to a failure\n",
    "\n",
    "# Total number of anomalies\n",
    "total_anomalies = len(anomalous_timestamps)\n",
    "\n",
    "# Calculate the percentage of correct correspondences\n",
    "correct_percentage = (TP / total_anomalies) * 100\n",
    "\n",
    "print(f\"Total anomalies: {total_anomalies}\")\n",
    "print(f\"True positives: {TP}\")\n",
    "print(f\"Percentage of correct correspondences: {correct_percentage:.2f}%\")"
   ]
  },
  {
   "cell_type": "code",
   "execution_count": 43,
   "metadata": {},
   "outputs": [
    {
     "data": {
      "image/png": "[encoded data removed]",
      "text/plain": [
       "<Figure size 1200x600 with 1 Axes>"
      ]
     },
     "metadata": {},
     "output_type": "display_data"
    }
   ],
   "source": [
    "import matplotlib.pyplot as plt\n",
    "\n",
    "plt.figure(figsize=(12, 6))\n",
    "plt.plot(reconstruction_error, label='Reconstruction Error')\n",
    "plt.axhline(y=threshold, color='r', linestyle='--', label='Threshold')\n",
    "plt.title('Reconstruction Error Over Time')\n",
    "plt.xlabel('Time Step')\n",
    "plt.ylabel('Reconstruction Error')\n",
    "plt.legend()\n",
    "plt.show()\n"
   ]
  },
  {
   "cell_type": "code",
   "execution_count": null,
   "metadata": {},
   "outputs": [],
   "source": []
  }
 ],
 "metadata": {
  "kernelspec": {
   "display_name": "Python 3",
   "language": "python",
   "name": "python3"
  },
  "language_info": {
   "codemirror_mode": {
    "name": "ipython",
    "version": 3
   },
   "file_extension": ".py",
   "mimetype": "text/x-python",
   "name": "python",
   "nbconvert_exporter": "python",
   "pygments_lexer": "ipython3",
   "version": "3.12.6"
  }
 },
 "nbformat": 4,
 "nbformat_minor": 2
}
