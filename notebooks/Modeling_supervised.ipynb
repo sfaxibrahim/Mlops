{
 "cells": [
  {
   "cell_type": "code",
   "execution_count": 43,
   "metadata": {},
   "outputs": [],
   "source": [
    "#import necessary library \n",
    "import pandas as pd \n",
    "from sklearn.model_selection import train_test_split ,RandomizedSearchCV\n",
    "from sklearn.ensemble import RandomForestClassifier\n",
    "from sklearn.tree import DecisionTreeClassifier\n",
    "from sklearn.svm import SVC\n",
    "from sklearn.metrics import accuracy_score, precision_score,recall_score, f1_score\n",
    "from sklearn.metrics import classification_report ,confusion_matrix\n",
    "import xgboost as xgb\n",
    "\n",
    "from tensorflow.keras.models import Sequential\n",
    "from tensorflow.keras.layers import Dense,LSTM,Dropout\n",
    "\n",
    "\n",
    "from scipy.stats import randint\n",
    "import matplotlib.pyplot as plt\n",
    "import seaborn as sns\n",
    "from sklearn.preprocessing import StandardScaler\n",
    "from imblearn.pipeline import Pipeline\n",
    "from imblearn.over_sampling import SMOTE\n",
    "import time \n",
    "\n"
   ]
  },
  {
   "cell_type": "code",
   "execution_count": 3,
   "metadata": {},
   "outputs": [],
   "source": [
    "df=pd.read_csv(\"../data/processed/data_v1.csv\")\n"
   ]
  },
  {
   "cell_type": "markdown",
   "metadata": {},
   "source": [
    "colums to drop are \"Caudal_impulses\" \"Oil_level\" ,\"Pressure_switch\" ,\"LPS\""
   ]
  },
  {
   "cell_type": "code",
   "execution_count": 4,
   "metadata": {},
   "outputs": [
    {
     "name": "stdout",
     "output_type": "stream",
     "text": [
      "<class 'pandas.core.frame.DataFrame'>\n",
      "RangeIndex: 1200000 entries, 0 to 1199999\n",
      "Data columns (total 17 columns):\n",
      " #   Column           Non-Null Count    Dtype  \n",
      "---  ------           --------------    -----  \n",
      " 0   Unnamed: 0       1200000 non-null  int64  \n",
      " 1   TP2              1200000 non-null  float64\n",
      " 2   TP3              1200000 non-null  float64\n",
      " 3   H1               1200000 non-null  float64\n",
      " 4   DV_pressure      1200000 non-null  float64\n",
      " 5   Reservoirs       1200000 non-null  float64\n",
      " 6   Oil_temperature  1200000 non-null  float64\n",
      " 7   Motor_current    1200000 non-null  float64\n",
      " 8   COMP             1200000 non-null  float64\n",
      " 9   DV_eletric       1200000 non-null  float64\n",
      " 10  Towers           1200000 non-null  float64\n",
      " 11  MPG              1200000 non-null  float64\n",
      " 12  LPS              1200000 non-null  float64\n",
      " 13  Pressure_switch  1200000 non-null  float64\n",
      " 14  Oil_level        1200000 non-null  float64\n",
      " 15  Caudal_impulses  1200000 non-null  float64\n",
      " 16  Air_Leak         1200000 non-null  int64  \n",
      "dtypes: float64(15), int64(2)\n",
      "memory usage: 155.6 MB\n"
     ]
    }
   ],
   "source": [
    "df.info()\n"
   ]
  },
  {
   "cell_type": "code",
   "execution_count": 5,
   "metadata": {},
   "outputs": [
    {
     "data": {
      "text/plain": [
       "Air_Leak\n",
       "0    1170046\n",
       "1      29954\n",
       "Name: count, dtype: int64"
      ]
     },
     "execution_count": 5,
     "metadata": {},
     "output_type": "execute_result"
    }
   ],
   "source": [
    "df[\"Air_Leak\"].value_counts()"
   ]
  },
  {
   "cell_type": "code",
   "execution_count": 6,
   "metadata": {},
   "outputs": [],
   "source": [
    "df.drop(columns=[\"Caudal_impulses\",\"Oil_level\",\"LPS\",\"Pressure_switch\",\"Unnamed: 0\"],inplace=True)"
   ]
  },
  {
   "cell_type": "code",
   "execution_count": 7,
   "metadata": {},
   "outputs": [],
   "source": [
    "X=df.drop(columns=[\"Air_Leak\"])\n",
    "y=df[\"Air_Leak\"]"
   ]
  },
  {
   "cell_type": "code",
   "execution_count": 8,
   "metadata": {},
   "outputs": [
    {
     "name": "stdout",
     "output_type": "stream",
     "text": [
      "Shape of X_train: (960000, 11)\n",
      "Shape of X_test: (240000, 11)\n",
      "Shape of y_train: (960000,)\n",
      "Shape of y_test: (240000,)\n"
     ]
    }
   ],
   "source": [
    "X_train, X_test, y_train, y_test = train_test_split(X, y, test_size=0.2, random_state=42)\n",
    "\n",
    "print(\"Shape of X_train:\", X_train.shape)\n",
    "print(\"Shape of X_test:\", X_test.shape)\n",
    "print(\"Shape of y_train:\", y_train.shape)\n",
    "print(\"Shape of y_test:\", y_test.shape)\n",
    "\n"
   ]
  },
  {
   "cell_type": "code",
   "execution_count": 16,
   "metadata": {},
   "outputs": [],
   "source": [
    "from datetime import datetime\n",
    "\n",
    "def timer(start_time=None):\n",
    "    if not start_time:\n",
    "        start_time=datetime.now()\n",
    "        return start_time\n",
    "    elif start_time:\n",
    "        thour,temp_sec=divmod((datetime.now()-start_time).total_seconds(),3600)\n",
    "        tmin,tsec=divmod(temp_sec,60)\n",
    "        print(f\"\\n Time Taken {thour} hours {tmin} minutes and {round(tsec,2)} seconds \")"
   ]
  },
  {
   "cell_type": "code",
   "execution_count": 9,
   "metadata": {},
   "outputs": [
    {
     "name": "stdout",
     "output_type": "stream",
     "text": [
      "Testing Accuracy: 99.92%\n",
      "Time taken for model (seconds): 9.468649625778198\n"
     ]
    }
   ],
   "source": [
    "start_time=time.time()\n",
    "pipeline_resam = Pipeline([\n",
    "    ('smote', SMOTE(sampling_strategy='auto', random_state=42)),  \n",
    "    ('scaler', StandardScaler()),                                \n",
    "    ('xgb', xgb.XGBClassifier())                  \n",
    "])\n",
    "\n",
    "pipeline_resam.fit(X_train, y_train)\n",
    "y_pred_resam = pipeline_resam.predict(X_test)\n",
    "\n",
    "end_time=time.time()\n",
    "elapsed_time=end_time-start_time\n",
    "test_acc=accuracy_score(y_test,y_pred_resam)\n",
    "\n",
    "print(f\"Testing Accuracy: {test_acc * 100:.2f}%\")\n",
    "print(\"Time taken for model (seconds):\", elapsed_time)\n",
    "\n"
   ]
  },
  {
   "cell_type": "code",
   "execution_count": 10,
   "metadata": {},
   "outputs": [
    {
     "name": "stdout",
     "output_type": "stream",
     "text": [
      "Classification Report:\n",
      "              precision    recall  f1-score   support\n",
      "\n",
      "           0       1.00      1.00      1.00    233974\n",
      "           1       0.97      0.99      0.98      6026\n",
      "\n",
      "    accuracy                           1.00    240000\n",
      "   macro avg       0.99      1.00      0.99    240000\n",
      "weighted avg       1.00      1.00      1.00    240000\n",
      "\n"
     ]
    }
   ],
   "source": [
    "print(\"Classification Report:\")\n",
    "print(classification_report(y_test, y_pred_resam))"
   ]
  },
  {
   "cell_type": "code",
   "execution_count": 17,
   "metadata": {},
   "outputs": [
    {
     "name": "stdout",
     "output_type": "stream",
     "text": [
      "Fitting 5 folds for each of 5 candidates, totalling 25 fits\n",
      "\n",
      " Time Taken 0.0 hours 5.0 minutes and 24.06 seconds \n"
     ]
    }
   ],
   "source": [
    "param_distributions = {\n",
    "    'xgb__n_estimators': randint(50, 500),  \n",
    "    'xgb__max_depth': randint(3, 15),      \n",
    "    'xgb__learning_rate': [0.01, 0.05, 0.1, 0.2,0.3], \n",
    "    'xgb__subsample': [0.5, 0.7, 1.0],      \n",
    "    'xgb__colsample_bytree': [0.5, 0.7, 1.0]  \n",
    "}\n",
    "\n",
    "# Set up Randomized Search\n",
    "random_search_xg = RandomizedSearchCV(\n",
    "    pipeline_resam,\n",
    "    param_distributions,\n",
    "    n_iter=5,  \n",
    "    scoring='roc_auc',  \n",
    "    cv=5,  \n",
    "    verbose=3,  \n",
    "    n_jobs=-1  # gpu -1 or  cpu =1\n",
    ")\n",
    "start_time=timer(None)\n",
    "random_search_xg.fit(X_train, y_train)\n",
    "timer(start_time)\n",
    "\n"
   ]
  },
  {
   "cell_type": "code",
   "execution_count": 18,
   "metadata": {},
   "outputs": [
    {
     "name": "stdout",
     "output_type": "stream",
     "text": [
      "Best Parameters: {'xgb__colsample_bytree': 0.5, 'xgb__learning_rate': 0.1, 'xgb__max_depth': 14, 'xgb__n_estimators': 207, 'xgb__subsample': 1.0}\n",
      "Best estimator: {'xgb__colsample_bytree': 0.5, 'xgb__learning_rate': 0.1, 'xgb__max_depth': 14, 'xgb__n_estimators': 207, 'xgb__subsample': 1.0}\n",
      "Best Cross-Validation Score: 0.9999562709635887\n"
     ]
    }
   ],
   "source": [
    "# Get the best parameters and score\n",
    "best_params = random_search_xg.best_params_\n",
    "best_estima = random_search_xg.best_estimator_\n",
    "best_score = random_search_xg.best_score_\n",
    "\n",
    "print(\"Best Parameters:\", best_params)\n",
    "print(\"Best estimator:\", best_params)\n",
    "print(\"Best Cross-Validation Score:\", best_score)"
   ]
  },
  {
   "cell_type": "code",
   "execution_count": 22,
   "metadata": {},
   "outputs": [
    {
     "name": "stdout",
     "output_type": "stream",
     "text": [
      "Accuracy: 0.999325\n",
      "Precision: 0.9808133814365366\n",
      "f1_socre: 0.9866380732431541\n",
      "Recall: 0.9925323597743113\n",
      "Classification Report:\n",
      "               precision    recall  f1-score   support\n",
      "\n",
      "           0       1.00      1.00      1.00    233974\n",
      "           1       0.98      0.99      0.99      6026\n",
      "\n",
      "    accuracy                           1.00    240000\n",
      "   macro avg       0.99      1.00      0.99    240000\n",
      "weighted avg       1.00      1.00      1.00    240000\n",
      "\n",
      "confusion Matrix:\n",
      " [[233857    117]\n",
      " [    45   5981]]\n"
     ]
    }
   ],
   "source": [
    "best_pipeline_xg = random_search_xg.best_estimator_\n",
    "y_pred_xg = best_pipeline_xg.predict(X_test)\n",
    "\n",
    "print(\"Accuracy:\", accuracy_score(y_test, y_pred_xg))\n",
    "print(\"Precision:\", precision_score(y_test, y_pred_xg))\n",
    "print(\"f1_socre:\", f1_score(y_test, y_pred_xg))\n",
    "print(\"Recall:\", recall_score(y_test, y_pred_xg))\n",
    "\n",
    "print(\"Classification Report:\\n\", classification_report(y_test, y_pred_xg))\n",
    "print(\"confusion Matrix:\\n\", confusion_matrix(y_test, y_pred_xg))"
   ]
  },
  {
   "cell_type": "code",
   "execution_count": 35,
   "metadata": {},
   "outputs": [
    {
     "data": {
      "image/png": "[encoded data removed]",
      "text/plain": [
       "<Figure size 640x480 with 2 Axes>"
      ]
     },
     "metadata": {},
     "output_type": "display_data"
    }
   ],
   "source": [
    "conf_matrix = confusion_matrix(y_test, y_pred_xg)\n",
    "sns.heatmap(conf_matrix, annot=True, cmap='Blues', fmt='g')\n",
    "plt.title('Confusion Matrix')\n",
    "plt.xlabel('Predicted Label')\n",
    "plt.ylabel('True Label')\n",
    "plt.show()\n"
   ]
  },
  {
   "cell_type": "code",
   "execution_count": 40,
   "metadata": {},
   "outputs": [
    {
     "name": "stdout",
     "output_type": "stream",
     "text": [
      "Fitting 5 folds for each of 5 candidates, totalling 25 fits\n",
      "\n",
      " Time Taken 0.0 hours 57.0 minutes and 36.48 seconds \n",
      "Best Parameters: {'rf__max_depth': 13, 'rf__min_samples_leaf': 4, 'rf__min_samples_split': 5, 'rf__n_estimators': 259}\n",
      "Best estimator: {'rf__max_depth': 13, 'rf__min_samples_leaf': 4, 'rf__min_samples_split': 5, 'rf__n_estimators': 259}\n",
      "Best Cross-Validation Score: 0.9968354166666666\n"
     ]
    }
   ],
   "source": [
    "pipeline_rf = Pipeline([\n",
    "    ('smote', SMOTE(sampling_strategy='auto', random_state=42)),  \n",
    "    ('scaler', StandardScaler()),                                \n",
    "    ('rf', RandomForestClassifier())                  \n",
    "])\n",
    "param_rf = {\n",
    "    'rf__n_estimators':[100,200,300],\n",
    "    'rf__max_depth': [5,6,9,11,13,15],\n",
    "    'rf__min_samples_split': [2, 5, 10],\n",
    "    'rf__min_samples_leaf': [1, 2, 4]\n",
    "}\n",
    "rf_clasifier=RandomizedSearchCV(pipeline_rf,param_distributions=param_rf,n_iter=5,  \n",
    "    scoring='accuracy',  \n",
    "    cv=5,  \n",
    "    verbose=3,  \n",
    "    n_jobs=-1)\n",
    "\n",
    "start_time=timer(None)\n",
    "rf_clasifier.fit(X_train, y_train)\n",
    "timer(start_time)\n",
    "\n",
    "# Get the best parameters and score\n",
    "best_params = rf_clasifier.best_params_\n",
    "best_estima = rf_clasifier.best_estimator_\n",
    "best_score = rf_clasifier.best_score_\n",
    "\n",
    "print(\"Best Parameters:\", best_params)\n",
    "print(\"Best estimator:\", best_params)\n",
    "print(\"Best Cross-Validation Score:\", best_score)"
   ]
  },
  {
   "cell_type": "code",
   "execution_count": 41,
   "metadata": {},
   "outputs": [
    {
     "name": "stdout",
     "output_type": "stream",
     "text": [
      "Accuracy: 0.9971\n",
      "Precision: 0.900390625\n",
      "f1_socre: 0.9451190663933133\n",
      "Recall: 0.9945237305011616\n",
      "Classification Report:\n",
      "               precision    recall  f1-score   support\n",
      "\n",
      "           0       1.00      1.00      1.00    233974\n",
      "           1       0.90      0.99      0.95      6026\n",
      "\n",
      "    accuracy                           1.00    240000\n",
      "   macro avg       0.95      1.00      0.97    240000\n",
      "weighted avg       1.00      1.00      1.00    240000\n",
      "\n",
      "confusion Matrix:\n",
      " [[233311    663]\n",
      " [    33   5993]]\n"
     ]
    }
   ],
   "source": [
    "best_pipeline_rf = rf_clasifier.best_estimator_\n",
    "y_pred_rf = best_pipeline_rf.predict(X_test)\n",
    "\n",
    "print(\"Accuracy:\", accuracy_score(y_test, y_pred_rf))\n",
    "print(\"Precision:\", precision_score(y_test, y_pred_rf))\n",
    "print(\"f1_socre:\", f1_score(y_test, y_pred_rf))\n",
    "print(\"Recall:\", recall_score(y_test, y_pred_rf))\n",
    "\n",
    "print(\"Classification Report:\\n\", classification_report(y_test, y_pred_rf))\n",
    "print(\"confusion Matrix:\\n\", confusion_matrix(y_test, y_pred_rf))"
   ]
  },
  {
   "cell_type": "code",
   "execution_count": 42,
   "metadata": {},
   "outputs": [
    {
     "data": {
      "image/png": "[encoded data removed]",
      "text/plain": [
       "<Figure size 640x480 with 2 Axes>"
      ]
     },
     "metadata": {},
     "output_type": "display_data"
    }
   ],
   "source": [
    "conf_matrix = confusion_matrix(y_test, y_pred_rf)\n",
    "sns.heatmap(conf_matrix, annot=True, cmap='Blues', fmt='g')\n",
    "plt.title('Confusion Matrix')\n",
    "plt.xlabel('Predicted Label')\n",
    "plt.ylabel('True Label')\n",
    "plt.show()\n"
   ]
  },
  {
   "cell_type": "code",
   "execution_count": null,
   "metadata": {},
   "outputs": [],
   "source": [
    "pipeline_dt = Pipeline([\n",
    "    ('smote', SMOTE(sampling_strategy='auto', random_state=42)),  \n",
    "    ('scaler', StandardScaler()),                                \n",
    "    ('dt', DecisionTreeClassifier())                  \n",
    "])\n",
    "param_dt = {\n",
    "    'dt__criterion':['gini','entropy'],\n",
    "    'dt__max_depth': [5,6,9,11,13,15],\n",
    "    'dt__min_samples_split': [2, 5, 10],\n",
    "    'dt__min_samples_leaf': [1, 2, 4]\n",
    "}\n",
    "dt_clasifier=RandomizedSearchCV(pipeline_dt,param_distributions=param_dt,n_iter=5,  \n",
    "    scoring='accuracy',  \n",
    "    cv=5,  \n",
    "    verbose=3,  \n",
    "    n_jobs=-1)\n",
    "\n",
    "start_time=timer(None)\n",
    "dt_clasifier.fit(X_train, y_train)\n",
    "timer(start_time)\n",
    "\n",
    "# Get the best parameters and score\n",
    "best_params_dt = dt_clasifier.best_params_\n",
    "best_estima_dt = dt_clasifier.best_estimator_\n",
    "best_score_dt = dt_clasifier.best_score_\n",
    "\n",
    "print(\"Best Parameters:\", best_params_dt)\n",
    "print(\"Best estimator:\", best_estima_dt)\n",
    "print(\"Best Cross-Validation Score:\", best_score_dt)"
   ]
  },
  {
   "cell_type": "code",
   "execution_count": null,
   "metadata": {},
   "outputs": [],
   "source": [
    "best_pipeline_dt = rf_clasifier.best_estimator_\n",
    "y_pred_dt = best_pipeline_dt.predict(X_test)\n",
    "\n",
    "print(\"Accuracy:\", accuracy_score(y_test, y_pred_dt))\n",
    "print(\"Precision:\", precision_score(y_test, y_pred_dt))\n",
    "print(\"f1_socre:\", f1_score(y_test, y_pred_dt))\n",
    "print(\"Recall:\", recall_score(y_test, y_pred_dt))\n",
    "\n",
    "print(\"Classification Report:\\n\", classification_report(y_test, y_pred_dt))\n",
    "print(\"confusion Matrix:\\n\", confusion_matrix(y_test, y_pred_dt))"
   ]
  }
 ],
 "metadata": {
  "kernelspec": {
   "display_name": "Python 3",
   "language": "python",
   "name": "python3"
  },
  "language_info": {
   "codemirror_mode": {
    "name": "ipython",
    "version": 3
   },
   "file_extension": ".py",
   "mimetype": "text/x-python",
   "name": "python",
   "nbconvert_exporter": "python",
   "pygments_lexer": "ipython3",
   "version": "3.12.3"
  }
 },
 "nbformat": 4,
 "nbformat_minor": 2
}
