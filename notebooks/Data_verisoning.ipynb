{
 "cells": [
  {
   "cell_type": "code",
   "execution_count": 26,
   "metadata": {},
   "outputs": [],
   "source": [
    "import pandas as pd\n",
    "import matplotlib.pyplot as plt\n",
    "import seaborn as sns\n",
    "from imblearn.over_sampling import SMOTE\n",
    "from sklearn.model_selection import train_test_split"
   ]
  },
  {
   "cell_type": "code",
   "execution_count": 27,
   "metadata": {},
   "outputs": [],
   "source": [
    "data=pd.read_csv(\"../data/processed/data_o.csv\")\n"
   ]
  },
  {
   "cell_type": "code",
   "execution_count": 28,
   "metadata": {},
   "outputs": [
    {
     "name": "stdout",
     "output_type": "stream",
     "text": [
      "<class 'pandas.core.frame.DataFrame'>\n",
      "RangeIndex: 1516948 entries, 0 to 1516947\n",
      "Data columns (total 18 columns):\n",
      " #   Column           Non-Null Count    Dtype  \n",
      "---  ------           --------------    -----  \n",
      " 0   Unnamed: 0       1516948 non-null  int64  \n",
      " 1   timestamp        1516948 non-null  object \n",
      " 2   TP2              1516948 non-null  float64\n",
      " 3   TP3              1516948 non-null  float64\n",
      " 4   H1               1516948 non-null  float64\n",
      " 5   DV_pressure      1516948 non-null  float64\n",
      " 6   Reservoirs       1516948 non-null  float64\n",
      " 7   Oil_temperature  1516948 non-null  float64\n",
      " 8   Motor_current    1516948 non-null  float64\n",
      " 9   COMP             1516948 non-null  float64\n",
      " 10  DV_eletric       1516948 non-null  float64\n",
      " 11  Towers           1516948 non-null  float64\n",
      " 12  MPG              1516948 non-null  float64\n",
      " 13  LPS              1516948 non-null  float64\n",
      " 14  Pressure_switch  1516948 non-null  float64\n",
      " 15  Oil_level        1516948 non-null  float64\n",
      " 16  Caudal_impulses  1516948 non-null  float64\n",
      " 17  Air_Leak         1516948 non-null  int64  \n",
      "dtypes: float64(15), int64(2), object(1)\n",
      "memory usage: 208.3+ MB\n"
     ]
    }
   ],
   "source": [
    "data.info()"
   ]
  },
  {
   "cell_type": "code",
   "execution_count": 29,
   "metadata": {},
   "outputs": [],
   "source": [
    "data.drop(columns=[\"Unnamed: 0\",\"timestamp\"],inplace=True)"
   ]
  },
  {
   "cell_type": "code",
   "execution_count": 30,
   "metadata": {},
   "outputs": [
    {
     "data": {
      "text/plain": [
       "Air_Leak\n",
       "0    1170046\n",
       "1      29954\n",
       "Name: count, dtype: int64"
      ]
     },
     "execution_count": 30,
     "metadata": {},
     "output_type": "execute_result"
    }
   ],
   "source": [
    "data_v1=data.iloc[:1200000]\n",
    "data_v1[\"Air_Leak\"].value_counts()"
   ]
  },
  {
   "cell_type": "code",
   "execution_count": 31,
   "metadata": {},
   "outputs": [
    {
     "data": {
      "text/plain": [
       "Air_Leak\n",
       "0    316948\n",
       "Name: count, dtype: int64"
      ]
     },
     "execution_count": 31,
     "metadata": {},
     "output_type": "execute_result"
    }
   ],
   "source": [
    "data_v2=data.iloc[1200000:]\n",
    "data_v2[\"Air_Leak\"].value_counts()"
   ]
  },
  {
   "cell_type": "code",
   "execution_count": 32,
   "metadata": {},
   "outputs": [],
   "source": [
    "data_v1.to_csv(\"../data/processed/data_v1.csv\")\n",
    "data_v2.to_csv(\"../data/processed/data_v2.csv\")"
   ]
  },
  {
   "cell_type": "code",
   "execution_count": 33,
   "metadata": {},
   "outputs": [],
   "source": [
    "X = data_v1.drop(columns=['Air_Leak'])  \n",
    "y = data_v1['Air_Leak']    \n",
    "X_train, X_test, y_train, y_test = train_test_split(X, y, test_size=0.2, random_state=42)"
   ]
  },
  {
   "cell_type": "code",
   "execution_count": 34,
   "metadata": {},
   "outputs": [
    {
     "name": "stdout",
     "output_type": "stream",
     "text": [
      "Shape of X_train: (960000, 15)\n",
      "Shape of X_test: (240000, 15)\n",
      "Shape of y_train: (960000,)\n",
      "Shape of y_test: (240000,)\n"
     ]
    }
   ],
   "source": []
  },
  {
   "cell_type": "code",
   "execution_count": 35,
   "metadata": {},
   "outputs": [],
   "source": [
    "smote = SMOTE(sampling_strategy='auto', random_state=42)\n",
    "X_resampled, y_resampled = smote.fit_resample(X_train, y_train)\n"
   ]
  },
  {
   "cell_type": "code",
   "execution_count": 36,
   "metadata": {},
   "outputs": [
    {
     "name": "stdout",
     "output_type": "stream",
     "text": [
      "Resampled training set distribution:\n",
      " Air_Leak\n",
      "0    936072\n",
      "1    936072\n",
      "Name: count, dtype: int64\n"
     ]
    }
   ],
   "source": [
    "print(\"Resampled training set distribution:\\n\", y_resampled.value_counts())"
   ]
  },
  {
   "cell_type": "code",
   "execution_count": null,
   "metadata": {},
   "outputs": [],
   "source": []
  }
 ],
 "metadata": {
  "kernelspec": {
   "display_name": "Python 3",
   "language": "python",
   "name": "python3"
  },
  "language_info": {
   "codemirror_mode": {
    "name": "ipython",
    "version": 3
   },
   "file_extension": ".py",
   "mimetype": "text/x-python",
   "name": "python",
   "nbconvert_exporter": "python",
   "pygments_lexer": "ipython3",
   "version": "3.12.3"
  }
 },
 "nbformat": 4,
 "nbformat_minor": 2
}
